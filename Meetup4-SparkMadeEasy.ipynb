{
 "cells": [
  {
   "cell_type": "markdown",
   "metadata": {},
   "source": [
    "## Spark 2.0 made easy - Hands on Lab - USING LINUX DSVM\n",
    "It should take about 11 minutes to run on a LDSVM DS4_v2 of  of 8 cores and 28GB RAM"
   ]
  },
  {
   "cell_type": "markdown",
   "metadata": {},
   "source": [
    "![SparkAzure Logo](https://msdnshared.blob.core.windows.net/media/2016/08/Spark-Azure.png)"
   ]
  },
  {
   "cell_type": "markdown",
   "metadata": {},
   "source": [
    "### Using LDSVM\n",
    "\n",
    "## Go to the azure marketplace and click on the GET IT NOW button, and follow the steps.\n",
    "https://azuremarketplace.microsoft.com/en-us/marketplace/apps/microsoft-ads.linux-data-science-vm-ubuntu?tab=Overview\n",
    "\n",
    "A standalone instance of Apache Spark is preinstalled on the Linux DSVM to help you develop Spark applications locally first before testing and deploying on large clusters. You can run PySpark programs through the Jupyter kernel\n",
    "![DSVM_image](https://msdnshared.blob.core.windows.net/media/2017/04/041817_0051_DeepLearnin1.png)"
   ]
  },
  {
   "cell_type": "markdown",
   "metadata": {},
   "source": [
    "## Introduction to Spark"
   ]
  },
  {
   "cell_type": "markdown",
   "metadata": {},
   "source": [
    "\n",
    "![About Spark](http://curriculum-release.s3-website-us-west-2.amazonaws.com/wiki-book/book_intro/spark_about.png)"
   ]
  },
  {
   "cell_type": "markdown",
   "metadata": {},
   "source": [
    "Spark is a unified processing engine that can analyze big data using SQL, machine learning, graph processing or real time stream analysis:\n",
    "\n",
    "![Spark Engines](http://curriculum-release.s3-website-us-west-2.amazonaws.com/wiki-book/book_intro/spark_4engines.png)\n",
    "\n",
    "We will mostly focus on Spark SQL and DataFrames this evening."
   ]
  },
  {
   "cell_type": "markdown",
   "metadata": {},
   "source": [
    "Spark can read from many different databases and file systems and run in various environments:\n",
    "\n",
    "![Spark Goal](http://curriculum-release.s3-website-us-west-2.amazonaws.com/wiki-book/book_intro/spark_goal.png)"
   ]
  },
  {
   "cell_type": "markdown",
   "metadata": {},
   "source": [
    "Although Spark supports four languages (Scala, Java, Python, R), tonight we will use Python.\n",
    "Broadly speaking, there are **2 APIs** for interacting with Spark:\n",
    "- **DataFrames/SQL/Datasets:** general, higher level API for users of Spark\n",
    "- **RDD:** a lower level API for spark internals and advanced programming"
   ]
  },
  {
   "cell_type": "markdown",
   "metadata": {},
   "source": [
    "A Spark cluster is made of one Driver and many Executor JVMs (java virtual machines):"
   ]
  },
  {
   "cell_type": "markdown",
   "metadata": {},
   "source": [
    "![Spark Physical Cluster, slots](http://curriculum-release.s3-website-us-west-2.amazonaws.com/wiki-book/book_intro/spark_cluster_slots.png)"
   ]
  },
  {
   "cell_type": "markdown",
   "metadata": {},
   "source": [
    "The Driver sends Tasks to the empty slots on the Executors when work has to be done:"
   ]
  },
  {
   "cell_type": "markdown",
   "metadata": {},
   "source": [
    "![Spark Physical Cluster, tasks](http://curriculum-release.s3-website-us-west-2.amazonaws.com/wiki-book/book_intro/spark_cluster_tasks.png)"
   ]
  },
  {
   "cell_type": "markdown",
   "metadata": {},
   "source": [
    "On Azure Data Science VM, Spark is installed in local mode cluster, where the Driver and Executor code run in the same JVM. Local mode clusters are typically used for prototyping and learning Spark"
   ]
  },
  {
   "cell_type": "markdown",
   "metadata": {},
   "source": [
    "Open the Apache Spark 2.0 related documentation in new tabs, so you can easily reference the API guide:\n",
    "\n",
    "1) Spark 2.0.1  docs: https://spark.apache.org/docs/2.0.1/\n",
    "\n",
    "2) DataFrame user documentation: https://spark.apache.org/docs/2.0.1/sql-programming-guide.html\n",
    "\n",
    "3) PySpark API 2.0 docs: http://spark.apache.org/docs/latest/api/python/index.html\n",
    "\n",
    "Other usefull links:\n",
    "\n",
    "4) IPython magic commands: http://ipython.readthedocs.io/en/stable/interactive/magics.html\n",
    "\n",
    "5) Guide for DataFrame Operations in PySpark: https://www.analyticsvidhya.com/blog/2016/10/spark-dataframe-and-operations/\n",
    "\n",
    "6) Repo for Azure Machine Learning- Data Science: https://github.com/Azure/Azure-MachineLearning-DataScience\n",
    "\n",
    "7) Understanding Resource Allocation configurations for Spark apps: http://site.clairvoyantsoft.com/understanding-resource-allocation-configurations-spark-application/\n"
   ]
  },
  {
   "cell_type": "markdown",
   "metadata": {},
   "source": [
    "# Spark cluster configuration"
   ]
  },
  {
   "cell_type": "markdown",
   "metadata": {},
   "source": [
    "#### (OPTIONAL STEP) IF RUNNING THIS NOTEBOOK IN AZURE DATA SCIENCE VM:\n",
    "#### ssh into your machine\n",
    "ssh username@ip<br>\n",
    "sudo locate spark-defaults.conf<br>\n",
    "sudo vi /dsvm/tools/spark/spark-2.0.2/conf/spark-defaults.conf<br>\n",
    "\n",
    "#### then change the line below to fit your VM RAM (use 90% of the available RAM)\n",
    "spark.driver.memory Xg"
   ]
  },
  {
   "cell_type": "markdown",
   "metadata": {},
   "source": [
    "Let's make sure that we have our desired ram"
   ]
  },
  {
   "cell_type": "code",
   "execution_count": 1,
   "metadata": {},
   "outputs": [
    {
     "data": {
      "text/plain": [
       "u'25g'"
      ]
     },
     "execution_count": 1,
     "metadata": {},
     "output_type": "execute_result"
    }
   ],
   "source": [
    "sc._conf.get('spark.driver.memory')"
   ]
  },
  {
   "cell_type": "markdown",
   "metadata": {},
   "source": [
    "### We need now to enable the SparkUI\n",
    "Go to Your Azure portal, click on the Resource Group you just created (where the DSVM is) and click on the Network Security Group Resource and add and Inbound rule for the Spark UI port 4040. It should look like this:\n",
    "\n",
    "Priotity: 1040, Name: SparkUI, Source: Any, Destination: Any, Service: Custom (Any/4040), Action: Allow\n"
   ]
  },
  {
   "cell_type": "markdown",
   "metadata": {},
   "source": [
    "# Introduction to Car Rental Bookings"
   ]
  },
  {
   "cell_type": "code",
   "execution_count": 2,
   "metadata": {
    "collapsed": true
   },
   "outputs": [],
   "source": [
    "import pyspark"
   ]
  },
  {
   "cell_type": "markdown",
   "metadata": {},
   "source": [
    "Let's read or source file - This files contains many columns related to one day of all the diferent car rental companies and their bookings"
   ]
  },
  {
   "cell_type": "code",
   "execution_count": 3,
   "metadata": {},
   "outputs": [
    {
     "name": "stdout",
     "output_type": "stream",
     "text": [
      "CPU times: user 16 ms, sys: 0 ns, total: 16 ms\n",
      "Wall time: 52.6 s\n"
     ]
    }
   ],
   "source": [
    "%%time\n",
    "pricingDF = spark.read.csv(\"wasb://meetup-files@mdbdsmeetup.blob.core.windows.net/COMPETITOR_RATE_20170216.csv\", header=False, inferSchema=True)"
   ]
  },
  {
   "cell_type": "markdown",
   "metadata": {},
   "source": [
    "It took about ~50 seconds to read"
   ]
  },
  {
   "cell_type": "markdown",
   "metadata": {},
   "source": [
    "Inferring the schema works for ad hoc analysis against smaller datasets. But when working on multi-TB+ data, it's better to provide an **explicit pre-defined schema manually**, so there's no inferring cost:"
   ]
  },
  {
   "cell_type": "code",
   "execution_count": 4,
   "metadata": {
    "collapsed": true
   },
   "outputs": [],
   "source": [
    "from pyspark.sql.types import StructType, StructField, IntegerType, StringType, BooleanType, DoubleType"
   ]
  },
  {
   "cell_type": "code",
   "execution_count": 5,
   "metadata": {
    "collapsed": true
   },
   "outputs": [],
   "source": [
    "# Note that we are removing all space characters from the col names to prevent errors when writing to Parquet later\n",
    "\n",
    "PricingSchema = StructType([StructField('UniqueIdentity', StringType(), True),\n",
    "                     StructField('PickupLocationCode', StringType(), True),\n",
    "                     StructField('ReturnLocationCode', StringType(), True),\n",
    "                     StructField('CarClass', StringType(), True),\n",
    "                     StructField('PickupDate', StringType(), True),       \n",
    "                     StructField('ReturnDate', StringType(), True),       \n",
    "                     StructField('PricingSegmentId', StringType(), True),       \n",
    "                     StructField('ShopDate', StringType(), True),       \n",
    "                     StructField('CompetitorId', StringType(), True),       \n",
    "                     StructField('LengthOfRent', IntegerType(), True),       \n",
    "                     StructField('PlanCode', StringType(), True),       \n",
    "                     StructField('CurrencyCode', StringType(), True),                  \n",
    "                     StructField('ShopSourceCode', StringType(), True),       \n",
    "                     StructField('ShopVendorCode', StringType(), True),       \n",
    "                     StructField('Rate', DoubleType(), True),       \n",
    "                     StructField('TimeAndMileage', DoubleType(), True),       \n",
    "                     StructField('EstimatedTotal', DoubleType(), True),       \n",
    "                     StructField('LocationIndicator', StringType(), True),       \n",
    "                     StructField('MileageAllowance', StringType(), True),                 \n",
    "                     StructField('CreatedDate', StringType(), True),       \n",
    "                     StructField('EndPickupDate', StringType(), True),       \n",
    "                     StructField('PointOfSaleCountryCode', StringType(), True),       \n",
    "                     StructField('CategoryCode', StringType(), True),       \n",
    "                     StructField('RealTimeCanvasCode', StringType(), True)])"
   ]
  },
  {
   "cell_type": "code",
   "execution_count": 6,
   "metadata": {},
   "outputs": [
    {
     "name": "stdout",
     "output_type": "stream",
     "text": [
      "CPU times: user 0 ns, sys: 4 ms, total: 4 ms\n",
      "Wall time: 78.7 ms\n"
     ]
    }
   ],
   "source": [
    "%%time\n",
    "pricingDF = spark.read.csv(\"wasb://meetup-files@mdbdsmeetup.blob.core.windows.net/COMPETITOR_RATE_20170216.csv\", header=False, schema=PricingSchema)"
   ]
  },
  {
   "cell_type": "code",
   "execution_count": 7,
   "metadata": {},
   "outputs": [
    {
     "data": {
      "text/plain": [
       "['UniqueIdentity',\n",
       " 'PickupLocationCode',\n",
       " 'ReturnLocationCode',\n",
       " 'CarClass',\n",
       " 'PickupDate',\n",
       " 'ReturnDate',\n",
       " 'PricingSegmentId',\n",
       " 'ShopDate',\n",
       " 'CompetitorId',\n",
       " 'LengthOfRent',\n",
       " 'PlanCode',\n",
       " 'CurrencyCode',\n",
       " 'ShopSourceCode',\n",
       " 'ShopVendorCode',\n",
       " 'Rate',\n",
       " 'TimeAndMileage',\n",
       " 'EstimatedTotal',\n",
       " 'LocationIndicator',\n",
       " 'MileageAllowance',\n",
       " 'CreatedDate',\n",
       " 'EndPickupDate',\n",
       " 'PointOfSaleCountryCode',\n",
       " 'CategoryCode',\n",
       " 'RealTimeCanvasCode']"
      ]
     },
     "execution_count": 7,
     "metadata": {},
     "output_type": "execute_result"
    }
   ],
   "source": [
    "pricingDF.columns"
   ]
  },
  {
   "cell_type": "code",
   "execution_count": 8,
   "metadata": {},
   "outputs": [
    {
     "name": "stdout",
     "output_type": "stream",
     "text": [
      "CPU times: user 8 ms, sys: 0 ns, total: 8 ms\n",
      "Wall time: 30.2 s\n"
     ]
    },
    {
     "data": {
      "text/plain": [
       "25354815"
      ]
     },
     "execution_count": 8,
     "metadata": {},
     "output_type": "execute_result"
    }
   ],
   "source": [
    "%%time\n",
    "pricingDF.count()"
   ]
  },
  {
   "cell_type": "markdown",
   "metadata": {},
   "source": [
    "Because we gave it the schema, it took less."
   ]
  },
  {
   "cell_type": "code",
   "execution_count": 9,
   "metadata": {},
   "outputs": [
    {
     "name": "stdout",
     "output_type": "stream",
     "text": [
      "+--------------+------------------+------------------+--------+-------------------+-------------------+----------------+-------------------+------------+------------+--------+------------+--------------+--------------+------+--------------+--------------+-----------------+----------------+-------------------+-------------------+----------------------+------------+------------------+\n",
      "|UniqueIdentity|PickupLocationCode|ReturnLocationCode|CarClass|         PickupDate|         ReturnDate|PricingSegmentId|           ShopDate|CompetitorId|LengthOfRent|PlanCode|CurrencyCode|ShopSourceCode|ShopVendorCode|  Rate|TimeAndMileage|EstimatedTotal|LocationIndicator|MileageAllowance|        CreatedDate|      EndPickupDate|PointOfSaleCountryCode|CategoryCode|RealTimeCanvasCode|\n",
      "+--------------+------------------+------------------+--------+-------------------+-------------------+----------------+-------------------+------------+------------+--------+------------+--------------+--------------+------+--------------+--------------+-----------------+----------------+-------------------+-------------------+----------------------+------------+------------------+\n",
      "|   14214956668|               EWR|               EWR|       I|03/03/2017 10:00:00|03/05/2017 10:00:00|              NP|02/16/2017 01:03:03|          ZD|           2|       E|         USD|            GD|            RB|3400.0|        6800.0|       10449.0|                O|             UNL|02/16/2017 00:32:46|03/03/2017 10:00:00|                    US|           A|                 C|\n",
      "|   14214956672|               EWR|               EWR|       S|02/17/2017 10:00:00|02/19/2017 10:00:00|              NP|02/16/2017 01:03:02|          ZI|           2|       E|         USD|            GD|            RB|8370.0|       16740.0|       23062.0|                O|             UNL|02/16/2017 00:32:46|02/17/2017 10:00:00|                    US|           A|                 C|\n",
      "|   14214956676|               EWR|               EWR|       S|02/24/2017 10:00:00|02/26/2017 10:00:00|              NP|02/16/2017 01:03:03|          ET|           2|       E|         USD|            GD|            RB|5615.0|       11230.0|       15629.0|                O|             UNL|02/16/2017 00:32:46|02/24/2017 10:00:00|                    US|           A|                 C|\n",
      "|   14214956679|               EWR|               EWR|       S|03/10/2017 10:00:00|03/12/2017 10:00:00|              NP|02/16/2017 01:03:03|          ZD|           2|       E|         USD|            GD|            RB|3700.0|        7400.0|       11211.0|                O|             UNL|02/16/2017 00:32:46|03/10/2017 10:00:00|                    US|           A|                 C|\n",
      "|   14214956681|               EWR|               EWR|       F|02/24/2017 10:00:00|02/26/2017 10:00:00|              NP|02/16/2017 01:03:02|          ZI|           2|       E|         USD|            GD|            RB|5400.0|       10800.0|       15524.0|                O|             UNL|02/16/2017 00:32:46|02/24/2017 10:00:00|                    US|           A|                 C|\n",
      "+--------------+------------------+------------------+--------+-------------------+-------------------+----------------+-------------------+------------+------------+--------+------------+--------------+--------------+------+--------------+--------------+-----------------+----------------+-------------------+-------------------+----------------------+------------+------------------+\n",
      "only showing top 5 rows\n",
      "\n"
     ]
    }
   ],
   "source": [
    "pricingDF.show(5)"
   ]
  },
  {
   "cell_type": "markdown",
   "metadata": {},
   "source": [
    "### ** Doing Date/Time Analysis**"
   ]
  },
  {
   "cell_type": "markdown",
   "metadata": {},
   "source": [
    "Notice that the date or time columns are currently being interpreted as strings, rather than date or time objects:"
   ]
  },
  {
   "cell_type": "code",
   "execution_count": 10,
   "metadata": {},
   "outputs": [
    {
     "name": "stdout",
     "output_type": "stream",
     "text": [
      "root\n",
      " |-- UniqueIdentity: string (nullable = true)\n",
      " |-- PickupLocationCode: string (nullable = true)\n",
      " |-- ReturnLocationCode: string (nullable = true)\n",
      " |-- CarClass: string (nullable = true)\n",
      " |-- PickupDate: string (nullable = true)\n",
      " |-- ReturnDate: string (nullable = true)\n",
      " |-- PricingSegmentId: string (nullable = true)\n",
      " |-- ShopDate: string (nullable = true)\n",
      " |-- CompetitorId: string (nullable = true)\n",
      " |-- LengthOfRent: integer (nullable = true)\n",
      " |-- PlanCode: string (nullable = true)\n",
      " |-- CurrencyCode: string (nullable = true)\n",
      " |-- ShopSourceCode: string (nullable = true)\n",
      " |-- ShopVendorCode: string (nullable = true)\n",
      " |-- Rate: double (nullable = true)\n",
      " |-- TimeAndMileage: double (nullable = true)\n",
      " |-- EstimatedTotal: double (nullable = true)\n",
      " |-- LocationIndicator: string (nullable = true)\n",
      " |-- MileageAllowance: string (nullable = true)\n",
      " |-- CreatedDate: string (nullable = true)\n",
      " |-- EndPickupDate: string (nullable = true)\n",
      " |-- PointOfSaleCountryCode: string (nullable = true)\n",
      " |-- CategoryCode: string (nullable = true)\n",
      " |-- RealTimeCanvasCode: string (nullable = true)\n",
      "\n"
     ]
    }
   ],
   "source": [
    "pricingDF.printSchema()"
   ]
  },
  {
   "cell_type": "markdown",
   "metadata": {},
   "source": [
    "Let's use the unix_timestamp() function to convert the string into a timestamp:\n",
    "\n",
    "https://people.apache.org/~pwendell/spark-nightly/spark-master-docs/latest/api/python/pyspark.sql.html?highlight=spark#pyspark.sql.functions.from_unixtime"
   ]
  },
  {
   "cell_type": "code",
   "execution_count": 11,
   "metadata": {
    "collapsed": true
   },
   "outputs": [],
   "source": [
    "from pyspark.sql.functions import *"
   ]
  },
  {
   "cell_type": "code",
   "execution_count": 12,
   "metadata": {
    "collapsed": true
   },
   "outputs": [],
   "source": [
    "# Note that PySpark uses the Java Simple Date Format patterns\n",
    "\n",
    "from_pattern = 'MM/dd/yyyy hh:mm:ss'\n",
    "\n",
    "pricingTsDF = pricingDF \\\n",
    "  .withColumn('PickupDateTS', unix_timestamp(pricingDF['PickupDate'], from_pattern).cast(\"timestamp\")) \\\n",
    "  .drop('PickupDate') \\\n",
    "  .withColumn('ReturnDateTS', unix_timestamp(pricingDF['ReturnDate'], from_pattern).cast(\"timestamp\")) \\\n",
    "  .drop('ReturnDate') \\\n",
    "  .withColumn('ShopDateTS', unix_timestamp(pricingDF['ShopDate'], from_pattern).cast(\"timestamp\")) \\\n",
    "  .drop('ShopDate') \\\n",
    "  .withColumn('CreatedDateTS', unix_timestamp(pricingDF['CreatedDate'], from_pattern).cast(\"timestamp\")) \\\n",
    "  .drop('CreatedDate') \\\n",
    "  .withColumn('EndPickupDateTS', unix_timestamp(pricingDF['EndPickupDate'], from_pattern).cast(\"timestamp\")) \\\n",
    "  .drop('EndPickupDate') "
   ]
  },
  {
   "cell_type": "code",
   "execution_count": 13,
   "metadata": {},
   "outputs": [
    {
     "name": "stdout",
     "output_type": "stream",
     "text": [
      "root\n",
      " |-- UniqueIdentity: string (nullable = true)\n",
      " |-- PickupLocationCode: string (nullable = true)\n",
      " |-- ReturnLocationCode: string (nullable = true)\n",
      " |-- CarClass: string (nullable = true)\n",
      " |-- PricingSegmentId: string (nullable = true)\n",
      " |-- CompetitorId: string (nullable = true)\n",
      " |-- LengthOfRent: integer (nullable = true)\n",
      " |-- PlanCode: string (nullable = true)\n",
      " |-- CurrencyCode: string (nullable = true)\n",
      " |-- ShopSourceCode: string (nullable = true)\n",
      " |-- ShopVendorCode: string (nullable = true)\n",
      " |-- Rate: double (nullable = true)\n",
      " |-- TimeAndMileage: double (nullable = true)\n",
      " |-- EstimatedTotal: double (nullable = true)\n",
      " |-- LocationIndicator: string (nullable = true)\n",
      " |-- MileageAllowance: string (nullable = true)\n",
      " |-- PointOfSaleCountryCode: string (nullable = true)\n",
      " |-- CategoryCode: string (nullable = true)\n",
      " |-- RealTimeCanvasCode: string (nullable = true)\n",
      " |-- PickupDateTS: timestamp (nullable = true)\n",
      " |-- ReturnDateTS: timestamp (nullable = true)\n",
      " |-- ShopDateTS: timestamp (nullable = true)\n",
      " |-- CreatedDateTS: timestamp (nullable = true)\n",
      " |-- EndPickupDateTS: timestamp (nullable = true)\n",
      "\n"
     ]
    }
   ],
   "source": [
    "# new date type columns are moved to the end of the column order\n",
    "pricingTsDF.printSchema()"
   ]
  },
  {
   "cell_type": "code",
   "execution_count": 14,
   "metadata": {},
   "outputs": [
    {
     "name": "stdout",
     "output_type": "stream",
     "text": [
      "+--------------------+\n",
      "|month(CreatedDateTS)|\n",
      "+--------------------+\n",
      "|                   2|\n",
      "|                   3|\n",
      "+--------------------+\n",
      "\n",
      "CPU times: user 12 ms, sys: 4 ms, total: 16 ms\n",
      "Wall time: 41.6 s\n"
     ]
    }
   ],
   "source": [
    "%%time\n",
    "#now we can do things like this\n",
    "pricingTsDF.select(month('CreatedDateTS')).distinct().orderBy('month(CreatedDateTS)').show()"
   ]
  },
  {
   "cell_type": "markdown",
   "metadata": {},
   "source": [
    "### ** Memory, Caching and write to Parquet**\n",
    "\n",
    "Let's go to the SparkUI here: http://13.66.31.97:4040 (use your VM public IP) and understand what's happening inside the guts of Spark"
   ]
  },
  {
   "cell_type": "markdown",
   "metadata": {},
   "source": [
    "In real use case scenario, an executor can hold multiple number of partitions depending on the memory configured for each executor. Generally a cluster of ‘n’ executors with each executor having ‘c’ computational threads (cores) should have n*c partitions. However  it should be noted that above way of calculating number of partitions may not fit well for all size of input data for a given size of cluster. Another way of getting optimal partitions count is by keeping each partition size between 50MB to 200MB. It is advised that a task should not take more than 5 seconds to complete. If average time of task completion exceeds more than 5 seconds then RDD should be repartitioned to decrease partitions size. It should also be kept in mind that RDD repartition will cause shuffle and hence will increase execution time.\n",
    "\n",
    "By default 60% of memory allocated to spark application is used for RDD caching, 20% is used of data shuffle and rest 20% is used for storing objects created for task execution. It is highly recommended not to configure executor with more than 40G of  memory as higher memory allocation for executor can lead to large Garbage Collection (GC) pauses. "
   ]
  },
  {
   "cell_type": "code",
   "execution_count": 15,
   "metadata": {},
   "outputs": [
    {
     "data": {
      "text/plain": [
       "36"
      ]
     },
     "execution_count": 15,
     "metadata": {},
     "output_type": "execute_result"
    }
   ],
   "source": [
    "pricingTsDF.rdd.getNumPartitions()"
   ]
  },
  {
   "cell_type": "code",
   "execution_count": 16,
   "metadata": {
    "collapsed": true
   },
   "outputs": [],
   "source": [
    "pricingTsDF.createOrReplaceTempView(\"pricingVIEW\");"
   ]
  },
  {
   "cell_type": "code",
   "execution_count": 17,
   "metadata": {
    "collapsed": true
   },
   "outputs": [],
   "source": [
    "spark.catalog.cacheTable(\"pricingVIEW\")"
   ]
  },
  {
   "cell_type": "code",
   "execution_count": 18,
   "metadata": {},
   "outputs": [
    {
     "name": "stdout",
     "output_type": "stream",
     "text": [
      "CPU times: user 12 ms, sys: 8 ms, total: 20 ms\n",
      "Wall time: 1min 38s\n"
     ]
    },
    {
     "data": {
      "text/plain": [
       "25354815"
      ]
     },
     "execution_count": 18,
     "metadata": {},
     "output_type": "execute_result"
    }
   ],
   "source": [
    "%%time\n",
    "# Call .count() to materialize the cache\n",
    "spark.table(\"pricingVIEW\").count()"
   ]
  },
  {
   "cell_type": "code",
   "execution_count": 19,
   "metadata": {},
   "outputs": [
    {
     "data": {
      "text/plain": [
       "25354815"
      ]
     },
     "execution_count": 19,
     "metadata": {},
     "output_type": "execute_result"
    }
   ],
   "source": [
    "# Note that the full scan + count in memory takes < 1 second!\n",
    "pricingTsDF.count()"
   ]
  },
  {
   "cell_type": "code",
   "execution_count": 20,
   "metadata": {},
   "outputs": [
    {
     "name": "stdout",
     "output_type": "stream",
     "text": [
      "+-----------+-----------+\n",
      "|  tableName|isTemporary|\n",
      "+-----------+-----------+\n",
      "|pricingview|       true|\n",
      "+-----------+-----------+\n",
      "\n"
     ]
    }
   ],
   "source": [
    "spark.sql(\"SHOW TABLES\").show()"
   ]
  },
  {
   "cell_type": "markdown",
   "metadata": {},
   "source": [
    "Now let's see if we can improve times with repartitioning"
   ]
  },
  {
   "cell_type": "code",
   "execution_count": 21,
   "metadata": {},
   "outputs": [],
   "source": [
    "pricingTsDF.repartition(18).createOrReplaceTempView(\"pricingVIEW2\");"
   ]
  },
  {
   "cell_type": "code",
   "execution_count": 22,
   "metadata": {},
   "outputs": [
    {
     "name": "stdout",
     "output_type": "stream",
     "text": [
      "CPU times: user 8 ms, sys: 0 ns, total: 8 ms\n",
      "Wall time: 36.7 s\n"
     ]
    }
   ],
   "source": [
    "%%time\n",
    "spark.catalog.cacheTable(\"pricingVIEW2\")\n",
    "spark.table(\"pricingVIEW2\").count()"
   ]
  },
  {
   "cell_type": "code",
   "execution_count": 23,
   "metadata": {
    "collapsed": true
   },
   "outputs": [],
   "source": [
    "pricingTsDF2 = spark.table(\"pricingVIEW2\")"
   ]
  },
  {
   "cell_type": "markdown",
   "metadata": {},
   "source": [
    "Look at the partitions size in the STORAGE section of the Spark UI. They look now closer to 100MB each. This is a best practice.\n",
    "\n",
    "Let's save now this partitions to a new parquet file"
   ]
  },
  {
   "cell_type": "code",
   "execution_count": 24,
   "metadata": {},
   "outputs": [
    {
     "name": "stdout",
     "output_type": "stream",
     "text": [
      "azureml\r\n",
      "caffe2\r\n",
      "CNTK\r\n",
      "derby.log\r\n",
      "DocumentDBSample.ipynb\r\n",
      "h2o\r\n",
      "IDEAR.ipynb\r\n",
      "Introduction to Azure ML R notebooks.ipynb\r\n",
      "Introduction to Microsoft R Operationalization.ipynb\r\n",
      "IntroToJupyterPython.ipynb\r\n",
      "IntroTutorialinMicrosoftR.ipynb\r\n",
      "IntroTutorialinR.ipynb\r\n",
      "IrisClassifierPyMLWebService.ipynb\r\n",
      "julia\r\n",
      "LoadDataIntoDW.ipynb\r\n",
      "Meetup4-MDBDS-DSVM.ipynb\r\n",
      "metastore_db\r\n",
      "mxnet\r\n",
      "Pricing\r\n",
      "SparkML\r\n",
      "SQLDW_Explorations.ipynb\r\n",
      "tensorflow\r\n"
     ]
    }
   ],
   "source": [
    "!ls"
   ]
  },
  {
   "cell_type": "code",
   "execution_count": 25,
   "metadata": {},
   "outputs": [
    {
     "name": "stdout",
     "output_type": "stream",
     "text": [
      "CPU times: user 4 ms, sys: 0 ns, total: 4 ms\n",
      "Wall time: 25.7 s\n"
     ]
    }
   ],
   "source": [
    "%%time\n",
    "pricingTsDF2.write.format('parquet').mode('overwrite').save(\"./Parquet/COMPETITOR_RATE_20170216.parquet\")"
   ]
  },
  {
   "cell_type": "markdown",
   "metadata": {},
   "source": [
    "Now the directory should contain 18 .gz compressed Parquet files (one for each partition):"
   ]
  },
  {
   "cell_type": "code",
   "execution_count": 26,
   "metadata": {},
   "outputs": [
    {
     "name": "stdout",
     "output_type": "stream",
     "text": [
      "total 555468\r\n",
      "-rw-r--r-- 1 pablomarin pablomarin 31579869 Apr 21 19:19 part-r-00000-006261e2-400b-4743-bb26-dc3f14aca604.snappy.parquet\r\n",
      "-rw-r--r-- 1 pablomarin pablomarin 31594877 Apr 21 19:19 part-r-00001-006261e2-400b-4743-bb26-dc3f14aca604.snappy.parquet\r\n",
      "-rw-r--r-- 1 pablomarin pablomarin 31592691 Apr 21 19:19 part-r-00002-006261e2-400b-4743-bb26-dc3f14aca604.snappy.parquet\r\n",
      "-rw-r--r-- 1 pablomarin pablomarin 31623386 Apr 21 19:19 part-r-00003-006261e2-400b-4743-bb26-dc3f14aca604.snappy.parquet\r\n",
      "-rw-r--r-- 1 pablomarin pablomarin 31622641 Apr 21 19:19 part-r-00004-006261e2-400b-4743-bb26-dc3f14aca604.snappy.parquet\r\n",
      "-rw-r--r-- 1 pablomarin pablomarin 31591826 Apr 21 19:19 part-r-00005-006261e2-400b-4743-bb26-dc3f14aca604.snappy.parquet\r\n",
      "-rw-r--r-- 1 pablomarin pablomarin 31599357 Apr 21 19:19 part-r-00006-006261e2-400b-4743-bb26-dc3f14aca604.snappy.parquet\r\n",
      "-rw-r--r-- 1 pablomarin pablomarin 31588931 Apr 21 19:19 part-r-00007-006261e2-400b-4743-bb26-dc3f14aca604.snappy.parquet\r\n",
      "-rw-r--r-- 1 pablomarin pablomarin 31584509 Apr 21 19:19 part-r-00008-006261e2-400b-4743-bb26-dc3f14aca604.snappy.parquet\r\n",
      "-rw-r--r-- 1 pablomarin pablomarin 31595548 Apr 21 19:19 part-r-00009-006261e2-400b-4743-bb26-dc3f14aca604.snappy.parquet\r\n",
      "-rw-r--r-- 1 pablomarin pablomarin 31593927 Apr 21 19:19 part-r-00010-006261e2-400b-4743-bb26-dc3f14aca604.snappy.parquet\r\n",
      "-rw-r--r-- 1 pablomarin pablomarin 31619524 Apr 21 19:19 part-r-00011-006261e2-400b-4743-bb26-dc3f14aca604.snappy.parquet\r\n",
      "-rw-r--r-- 1 pablomarin pablomarin 31578189 Apr 21 19:19 part-r-00012-006261e2-400b-4743-bb26-dc3f14aca604.snappy.parquet\r\n",
      "-rw-r--r-- 1 pablomarin pablomarin 31605998 Apr 21 19:19 part-r-00013-006261e2-400b-4743-bb26-dc3f14aca604.snappy.parquet\r\n",
      "-rw-r--r-- 1 pablomarin pablomarin 31583784 Apr 21 19:19 part-r-00014-006261e2-400b-4743-bb26-dc3f14aca604.snappy.parquet\r\n",
      "-rw-r--r-- 1 pablomarin pablomarin 31608153 Apr 21 19:19 part-r-00015-006261e2-400b-4743-bb26-dc3f14aca604.snappy.parquet\r\n",
      "-rw-r--r-- 1 pablomarin pablomarin 31600099 Apr 21 19:19 part-r-00016-006261e2-400b-4743-bb26-dc3f14aca604.snappy.parquet\r\n",
      "-rw-r--r-- 1 pablomarin pablomarin 31602248 Apr 21 19:19 part-r-00017-006261e2-400b-4743-bb26-dc3f14aca604.snappy.parquet\r\n",
      "-rw-r--r-- 1 pablomarin pablomarin        0 Apr 21 19:19 _SUCCESS\r\n"
     ]
    }
   ],
   "source": [
    "!ls -l ./Parquet/COMPETITOR_RATE_20170216.parquet"
   ]
  },
  {
   "cell_type": "markdown",
   "metadata": {},
   "source": [
    "Here's how you can easily read the parquet file from Azure Storage in the future:"
   ]
  },
  {
   "cell_type": "code",
   "execution_count": 27,
   "metadata": {
    "collapsed": true
   },
   "outputs": [],
   "source": [
    "tempDF = spark.read.parquet('./Parquet/COMPETITOR_RATE_20170216.parquet')"
   ]
  },
  {
   "cell_type": "code",
   "execution_count": 28,
   "metadata": {},
   "outputs": [
    {
     "name": "stdout",
     "output_type": "stream",
     "text": [
      "CPU times: user 0 ns, sys: 0 ns, total: 0 ns\n",
      "Wall time: 229 ms\n"
     ]
    },
    {
     "data": {
      "text/plain": [
       "25354815"
      ]
     },
     "execution_count": 28,
     "metadata": {},
     "output_type": "execute_result"
    }
   ],
   "source": [
    "%%time\n",
    "tempDF.count()"
   ]
  },
  {
   "cell_type": "markdown",
   "metadata": {},
   "source": [
    "### **Analysis with PySpark DataFrames API**"
   ]
  },
  {
   "cell_type": "markdown",
   "metadata": {},
   "source": [
    "#### ![Spark Operations](http://curriculum-release.s3-website-us-west-2.amazonaws.com/wiki-book/general/spark_ta.png)"
   ]
  },
  {
   "cell_type": "markdown",
   "metadata": {},
   "source": [
    "DataFrames support two types of operations: *transformations* and *actions*.\n",
    "\n",
    "Transformations, like `select()` or `filter()` create a new DataFrame from an existing one.\n",
    "\n",
    "Actions, like `show()` or `count()`, return a value with results to the user. Other actions like `save()` write the DataFrame to distributed storage (like S3 or HDFS)."
   ]
  },
  {
   "cell_type": "markdown",
   "metadata": {},
   "source": [
    "#### ![Spark T/A](http://curriculum-release.s3-website-us-west-2.amazonaws.com/wiki-book/pagecounts/trans_and_actions.png)"
   ]
  },
  {
   "cell_type": "markdown",
   "metadata": {},
   "source": [
    "Transformations contribute to a query plan,  but  nothing is executed until an action is called."
   ]
  },
  {
   "cell_type": "markdown",
   "metadata": {
    "collapsed": true
   },
   "source": [
    "Let's see how many nulls there are"
   ]
  },
  {
   "cell_type": "code",
   "execution_count": 29,
   "metadata": {},
   "outputs": [
    {
     "name": "stdout",
     "output_type": "stream",
     "text": [
      "CPU times: user 32 ms, sys: 12 ms, total: 44 ms\n",
      "Wall time: 4.73 s\n"
     ]
    },
    {
     "data": {
      "text/plain": [
       "[u'{\"UniqueIdentity\":0,\"PickupLocationCode\":0,\"ReturnLocationCode\":0,\"CarClass\":0,\"PricingSegmentId\":0,\"CompetitorId\":0,\"LengthOfRent\":0,\"PlanCode\":0,\"CurrencyCode\":61,\"ShopSourceCode\":0,\"ShopVendorCode\":0,\"Rate\":0,\"TimeAndMileage\":0,\"EstimatedTotal\":0,\"LocationIndicator\":18965186,\"MileageAllowance\":61,\"PointOfSaleCountryCode\":0,\"CategoryCode\":0,\"RealTimeCanvasCode\":0,\"PickupDateTS\":0,\"ReturnDateTS\":0,\"ShopDateTS\":0,\"CreatedDateTS\":0,\"EndPickupDateTS\":0}']"
      ]
     },
     "execution_count": 29,
     "metadata": {},
     "output_type": "execute_result"
    }
   ],
   "source": [
    "%%time\n",
    "pricingTsDF2.agg(*(sum(col(c).isNull().cast(\"integer\")).alias(c) for c in pricingTsDF2.columns)).toJSON().take(1)"
   ]
  },
  {
   "cell_type": "markdown",
   "metadata": {},
   "source": [
    "Lets start by checking how many unique values each column has"
   ]
  },
  {
   "cell_type": "code",
   "execution_count": 30,
   "metadata": {},
   "outputs": [
    {
     "name": "stdout",
     "output_type": "stream",
     "text": [
      "CPU times: user 64 ms, sys: 12 ms, total: 76 ms\n",
      "Wall time: 5min 37s\n"
     ]
    },
    {
     "data": {
      "text/plain": [
       "[u'{\"UniqueIdentity\":25354815,\"PickupLocationCode\":1199,\"ReturnLocationCode\":1247,\"CarClass\":19,\"PricingSegmentId\":7,\"CompetitorId\":36,\"LengthOfRent\":63,\"PlanCode\":4,\"CurrencyCode\":6,\"ShopSourceCode\":19,\"ShopVendorCode\":4,\"Rate\":115820,\"TimeAndMileage\":194133,\"EstimatedTotal\":234170,\"LocationIndicator\":1,\"MileageAllowance\":47,\"PointOfSaleCountryCode\":17,\"CategoryCode\":13,\"RealTimeCanvasCode\":3,\"PickupDateTS\":3694,\"ReturnDateTS\":4077,\"ShopDateTS\":49785,\"CreatedDateTS\":25688,\"EndPickupDateTS\":3709}']"
      ]
     },
     "execution_count": 30,
     "metadata": {},
     "output_type": "execute_result"
    }
   ],
   "source": [
    "%%time\n",
    "pricingTsDF2.agg(*(countDistinct(col(c)).alias(c) for c in pricingTsDF2.columns)).toJSON().take(1)"
   ]
  },
  {
   "cell_type": "markdown",
   "metadata": {},
   "source": [
    "Let's see how many bookings there are per country"
   ]
  },
  {
   "cell_type": "code",
   "execution_count": 31,
   "metadata": {},
   "outputs": [
    {
     "name": "stdout",
     "output_type": "stream",
     "text": [
      "+----------------------+--------+\n",
      "|PointOfSaleCountryCode|   count|\n",
      "+----------------------+--------+\n",
      "|                    US|23663084|\n",
      "|                    CA|  759446|\n",
      "|                    DE|   81070|\n",
      "|                    GB|   79553|\n",
      "|                    CH|   78891|\n",
      "|                    FR|   77572|\n",
      "|                    IT|   77463|\n",
      "|                    UY|   77149|\n",
      "|                    NL|   77117|\n",
      "|                    SA|   74784|\n",
      "|                    AR|   72125|\n",
      "|                    AU|   59407|\n",
      "|                    NO|   48703|\n",
      "|                    AT|   36921|\n",
      "|                    SG|   32145|\n",
      "|                    CN|   29900|\n",
      "|                    JP|   29485|\n",
      "+----------------------+--------+\n",
      "\n",
      "CPU times: user 4 ms, sys: 4 ms, total: 8 ms\n",
      "Wall time: 1.03 s\n"
     ]
    }
   ],
   "source": [
    "%%time\n",
    "pricingTsDF2.select('PointOfSaleCountryCode').groupBy('PointOfSaleCountryCode').count().orderBy(\"count\", ascending=False).show()"
   ]
  },
  {
   "cell_type": "markdown",
   "metadata": {},
   "source": [
    "Let's see how many bookings are made where Pickup is different than return location"
   ]
  },
  {
   "cell_type": "code",
   "execution_count": 32,
   "metadata": {},
   "outputs": [
    {
     "name": "stdout",
     "output_type": "stream",
     "text": [
      "+------------------+----------------------+------+\n",
      "|PickupLocationCode|PointOfSaleCountryCode| count|\n",
      "+------------------+----------------------+------+\n",
      "|               LAX|                    US|159999|\n",
      "|               BOS|                    US|123375|\n",
      "|               ATL|                    US|121420|\n",
      "|               MCO|                    US|106321|\n",
      "|               DCA|                    US|100808|\n",
      "|               SFO|                    US| 90005|\n",
      "|               IAD|                    US| 81717|\n",
      "|               LAS|                    US| 77067|\n",
      "|               BWI|                    US| 75265|\n",
      "|               TPA|                    US| 73799|\n",
      "|               MIA|                    US| 71903|\n",
      "|               PHL|                    US| 70824|\n",
      "|               DEN|                    US| 70087|\n",
      "|               ORD|                    US| 68302|\n",
      "|               EWR|                    US| 67989|\n",
      "|               SAN|                    US| 65464|\n",
      "|               SNA|                    US| 64792|\n",
      "|               JFK|                    US| 61372|\n",
      "|               RSW|                    US| 60055|\n",
      "|               FLL|                    US| 58722|\n",
      "+------------------+----------------------+------+\n",
      "only showing top 20 rows\n",
      "\n"
     ]
    }
   ],
   "source": [
    "pricingTsDF2.filter(pricingTsDF2.PickupLocationCode <> pricingTsDF2.ReturnLocationCode).groupBy(\"PickupLocationCode\", \"PointOfSaleCountryCode\").count().orderBy(\"count\", ascending=False).show()"
   ]
  },
  {
   "cell_type": "markdown",
   "metadata": {},
   "source": [
    "## **SQL Queries and Plotting**"
   ]
  },
  {
   "cell_type": "markdown",
   "metadata": {},
   "source": [
    "Now let's explore the data a bit more, but this time using SQL."
   ]
  },
  {
   "cell_type": "code",
   "execution_count": 33,
   "metadata": {
    "collapsed": true
   },
   "outputs": [],
   "source": [
    "import matplotlib\n",
    "import matplotlib.pyplot as plt\n",
    "from datetime import datetime\n",
    "from matplotlib.pyplot import *"
   ]
  },
  {
   "cell_type": "markdown",
   "metadata": {},
   "source": [
    "Let's plot the rate changes during a day for L car class in the major city Los Angeles (LAX) where pickup = return and the lenght of rental was 3 days and pricing segment is \"ROD\" with Category \"S\""
   ]
  },
  {
   "cell_type": "code",
   "execution_count": 34,
   "metadata": {},
   "outputs": [],
   "source": [
    "pandas_df = spark.sql(\"\"\"\n",
    "SELECT CompetitorId, CarClass, Rate/100 as Rate, LengthOfRent, PricingSegmentId, CreatedDateTS \\\n",
    "            FROM pricingview2 \\\n",
    "            WHERE PickupLocationCode ==  ReturnLocationCode and PickupLocationCode == 'LAX' \\\n",
    "            and CarClass in ('L') \\\n",
    "            and LengthOfRent == 3 \\\n",
    "            and PricingSegmentId in ('ROD') and CategoryCode == 'S' \\\n",
    "            SORT BY CreatedDateTS\n",
    "        \"\"\").toPandas()"
   ]
  },
  {
   "cell_type": "code",
   "execution_count": 35,
   "metadata": {
    "scrolled": true
   },
   "outputs": [
    {
     "data": {
      "image/png": "[encoded data removed]",
      "text/plain": [
       "<matplotlib.figure.Figure at 0x7f2254ae0290>"
      ]
     },
     "metadata": {},
     "output_type": "display_data"
    }
   ],
   "source": [
    "%matplotlib inline\n",
    "plot_date(pandas_df.CreatedDateTS, pandas_df.Rate)\n",
    "plt.gcf().autofmt_xdate()\n",
    "plt.show()"
   ]
  },
  {
   "cell_type": "markdown",
   "metadata": {},
   "source": [
    "Now let's see the average price of each Competitor during this day, for rentals in LAX, 3 days, M Class, ROD Price Segment and S Category Code"
   ]
  },
  {
   "cell_type": "code",
   "execution_count": 36,
   "metadata": {},
   "outputs": [],
   "source": [
    "pandas_df = spark.sql(\"\"\"\n",
    "SELECT CompetitorId, avg(Rate)/100 as Rate\\\n",
    "            FROM pricingview2 \\\n",
    "            WHERE PickupLocationCode ==  ReturnLocationCode and PickupLocationCode == 'LAX' \\\n",
    "            and CarClass in ('M') \\\n",
    "            and LengthOfRent == 3 \\\n",
    "            and PricingSegmentId in ('ROD') and CategoryCode == 'S' \\\n",
    "            group by CompetitorId\n",
    "        \"\"\").toPandas()"
   ]
  },
  {
   "cell_type": "code",
   "execution_count": 37,
   "metadata": {},
   "outputs": [
    {
     "data": {
      "image/png": "[encoded data removed]",
      "text/plain": [
       "<matplotlib.figure.Figure at 0x7f22444ccf50>"
      ]
     },
     "metadata": {},
     "output_type": "display_data"
    }
   ],
   "source": [
    "%matplotlib inline\n",
    "# HISTOGRAM OF TIP AMOUNTS AND PASSENGER COUNT\n",
    "ax1 = pandas_df[['Rate']].plot(kind='bar')\n",
    "ax1.set_xticklabels(pandas_df.CompetitorId)\n",
    "ax1.set_title('Avg Rate per Competitor')\n",
    "ax1.set_xlabel('Competitor ID')\n",
    "ax1.set_ylabel('Rate ($)')\n",
    "plt.suptitle('')\n",
    "plt.show()"
   ]
  },
  {
   "cell_type": "markdown",
   "metadata": {},
   "source": [
    "## You made it to the end of the lab Part 1.\n",
    "## Next lab we will take this data set and start predicting "
   ]
  }
 ],
 "metadata": {
  "kernelspec": {
   "display_name": "Python 2 Spark - local",
   "language": "python",
   "name": "spark-python"
  },
  "language_info": {
   "codemirror_mode": {
    "name": "ipython",
    "version": 2
   },
   "file_extension": ".py",
   "mimetype": "text/x-python",
   "name": "python",
   "nbconvert_exporter": "python",
   "pygments_lexer": "ipython2",
   "version": "2.7.14"
  }
 },
 "nbformat": 4,
 "nbformat_minor": 2
}
