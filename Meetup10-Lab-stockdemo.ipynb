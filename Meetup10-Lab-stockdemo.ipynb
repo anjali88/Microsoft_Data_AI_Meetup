{
 "cells": [
  {
   "cell_type": "code",
   "execution_count": 1,
   "metadata": {},
   "outputs": [
    {
     "name": "stderr",
     "output_type": "stream",
     "text": [
      "/anaconda/envs/py35/lib/python3.5/site-packages/h5py/__init__.py:36: FutureWarning: Conversion of the second argument of issubdtype from `float` to `np.floating` is deprecated. In future, it will be treated as `np.float64 == np.dtype(float).type`.\n",
      "  from ._conv import register_converters as _register_converters\n",
      "Using CNTK backend\n"
     ]
    }
   ],
   "source": [
    "%matplotlib notebook\n",
    "%matplotlib inline\n",
    "\n",
    "import os\n",
    "os.environ['KERAS_BACKEND'] = \"cntk\" # you can use \"cntk\" or \"tensorflow\"\n",
    "import time\n",
    "import datetime as dt\n",
    "import numpy as np\n",
    "from numpy import newaxis\n",
    "from numpy import array\n",
    "import matplotlib.pyplot as plt\n",
    "import pandas\n",
    "from urllib.request import urlretrieve\n",
    "import keras\n",
    "from keras.layers.core import Dense, Activation, Dropout\n",
    "from keras.layers.recurrent import LSTM\n",
    "from keras.models import Sequential"
   ]
  },
  {
   "cell_type": "markdown",
   "metadata": {},
   "source": [
    "# Define the TICKER time series to work with"
   ]
  },
  {
   "cell_type": "code",
   "execution_count": 2,
   "metadata": {},
   "outputs": [],
   "source": [
    "TICKER = \"MSFT\""
   ]
  },
  {
   "cell_type": "markdown",
   "metadata": {},
   "source": [
    "# Create File and Dir paths"
   ]
  },
  {
   "cell_type": "code",
   "execution_count": 3,
   "metadata": {},
   "outputs": [],
   "source": [
    "SHARE_ROOT = \"./stockdemo-model/\"\n",
    "\n",
    "MIN_MAX_DICT = SHARE_ROOT + TICKER +'-min_max.pkl'\n",
    "\n",
    "# We'll serialize the model in h5 \n",
    "LSTM_MODEL = SHARE_ROOT + TICKER +'-modellstm.h5'\n",
    "\n",
    "# and store the weights in h5\n",
    "MODEL_WEIGHTS = SHARE_ROOT + TICKER +'-modellstm-weights.h5' "
   ]
  },
  {
   "cell_type": "markdown",
   "metadata": {},
   "source": [
    "# Load Ticker historical EOD data from Quandl"
   ]
  },
  {
   "cell_type": "code",
   "execution_count": 4,
   "metadata": {},
   "outputs": [
    {
     "name": "stdout",
     "output_type": "stream",
     "text": [
      "File is already on disk\n"
     ]
    }
   ],
   "source": [
    "start_date = \"2000-01-01\"\n",
    "end_date =   \"2018-04-01\"\n",
    "order = \"asc\"\n",
    "parameters = '?&start_date='+start_date+'&end_date='+end_date+'&order='+order\n",
    "file = TICKER+\".csv\"\n",
    "\n",
    "def download(url, file):\n",
    "    \"\"\"\n",
    "    Download file from <url>\n",
    "    :param url: URL to file\n",
    "    :param file: Local file path\n",
    "    \"\"\"\n",
    "    if not os.path.isfile(file):\n",
    "        print('Downloading ' + url )\n",
    "        urlretrieve(url, file)\n",
    "        print('Download Finished')\n",
    "    else:\n",
    "        print('File is already on disk')\n",
    "\n",
    "# Download  dataset.\n",
    "download('https://www.quandl.com/api/v3/datasets/WIKI/' + TICKER + '.csv' + parameters, file)"
   ]
  },
  {
   "cell_type": "code",
   "execution_count": 5,
   "metadata": {},
   "outputs": [],
   "source": [
    "data = pandas.read_csv(file, index_col='Date')\n",
    "# Converting the index as date\n",
    "data.index = pandas.to_datetime(data.index)"
   ]
  },
  {
   "cell_type": "code",
   "execution_count": 6,
   "metadata": {},
   "outputs": [
    {
     "data": {
      "text/html": [
       "<div>\n",
       "<style scoped>\n",
       "    .dataframe tbody tr th:only-of-type {\n",
       "        vertical-align: middle;\n",
       "    }\n",
       "\n",
       "    .dataframe tbody tr th {\n",
       "        vertical-align: top;\n",
       "    }\n",
       "\n",
       "    .dataframe thead th {\n",
       "        text-align: right;\n",
       "    }\n",
       "</style>\n",
       "<table border=\"1\" class=\"dataframe\">\n",
       "  <thead>\n",
       "    <tr style=\"text-align: right;\">\n",
       "      <th></th>\n",
       "      <th>Open</th>\n",
       "      <th>High</th>\n",
       "      <th>Low</th>\n",
       "      <th>Close</th>\n",
       "      <th>Volume</th>\n",
       "      <th>Ex-Dividend</th>\n",
       "      <th>Split Ratio</th>\n",
       "      <th>Adj. Open</th>\n",
       "      <th>Adj. High</th>\n",
       "      <th>Adj. Low</th>\n",
       "      <th>Adj. Close</th>\n",
       "      <th>Adj. Volume</th>\n",
       "    </tr>\n",
       "  </thead>\n",
       "  <tbody>\n",
       "    <tr>\n",
       "      <th>count</th>\n",
       "      <td>4586.000000</td>\n",
       "      <td>4586.000000</td>\n",
       "      <td>4586.000000</td>\n",
       "      <td>4586.000000</td>\n",
       "      <td>4.586000e+03</td>\n",
       "      <td>4586.000000</td>\n",
       "      <td>4586.000000</td>\n",
       "      <td>4586.000000</td>\n",
       "      <td>4586.000000</td>\n",
       "      <td>4586.000000</td>\n",
       "      <td>4586.000000</td>\n",
       "      <td>4.586000e+03</td>\n",
       "    </tr>\n",
       "    <tr>\n",
       "      <th>mean</th>\n",
       "      <td>40.286633</td>\n",
       "      <td>40.755574</td>\n",
       "      <td>39.826630</td>\n",
       "      <td>40.288769</td>\n",
       "      <td>5.135335e+07</td>\n",
       "      <td>0.003055</td>\n",
       "      <td>1.000218</td>\n",
       "      <td>29.078012</td>\n",
       "      <td>29.373682</td>\n",
       "      <td>28.787272</td>\n",
       "      <td>29.083795</td>\n",
       "      <td>5.799623e+07</td>\n",
       "    </tr>\n",
       "    <tr>\n",
       "      <th>std</th>\n",
       "      <td>18.614374</td>\n",
       "      <td>18.899496</td>\n",
       "      <td>18.321689</td>\n",
       "      <td>18.602692</td>\n",
       "      <td>2.875247e+07</td>\n",
       "      <td>0.051648</td>\n",
       "      <td>0.014767</td>\n",
       "      <td>16.089370</td>\n",
       "      <td>16.182702</td>\n",
       "      <td>15.986585</td>\n",
       "      <td>16.094881</td>\n",
       "      <td>3.166583e+07</td>\n",
       "    </tr>\n",
       "    <tr>\n",
       "      <th>min</th>\n",
       "      <td>15.200000</td>\n",
       "      <td>15.620000</td>\n",
       "      <td>14.870000</td>\n",
       "      <td>15.150000</td>\n",
       "      <td>5.850800e+06</td>\n",
       "      <td>0.000000</td>\n",
       "      <td>1.000000</td>\n",
       "      <td>12.154701</td>\n",
       "      <td>12.490554</td>\n",
       "      <td>11.890816</td>\n",
       "      <td>12.114718</td>\n",
       "      <td>7.425503e+06</td>\n",
       "    </tr>\n",
       "    <tr>\n",
       "      <th>25%</th>\n",
       "      <td>26.696250</td>\n",
       "      <td>26.930000</td>\n",
       "      <td>26.470000</td>\n",
       "      <td>26.690000</td>\n",
       "      <td>3.225230e+07</td>\n",
       "      <td>0.000000</td>\n",
       "      <td>1.000000</td>\n",
       "      <td>19.325016</td>\n",
       "      <td>19.554843</td>\n",
       "      <td>19.091851</td>\n",
       "      <td>19.325016</td>\n",
       "      <td>3.686569e+07</td>\n",
       "    </tr>\n",
       "    <tr>\n",
       "      <th>50%</th>\n",
       "      <td>30.300000</td>\n",
       "      <td>30.605000</td>\n",
       "      <td>30.055000</td>\n",
       "      <td>30.320000</td>\n",
       "      <td>4.675009e+07</td>\n",
       "      <td>0.000000</td>\n",
       "      <td>1.000000</td>\n",
       "      <td>22.564576</td>\n",
       "      <td>22.846906</td>\n",
       "      <td>22.354119</td>\n",
       "      <td>22.589808</td>\n",
       "      <td>5.290715e+07</td>\n",
       "    </tr>\n",
       "    <tr>\n",
       "      <th>75%</th>\n",
       "      <td>52.655000</td>\n",
       "      <td>53.496250</td>\n",
       "      <td>51.885000</td>\n",
       "      <td>52.735000</td>\n",
       "      <td>6.303825e+07</td>\n",
       "      <td>0.000000</td>\n",
       "      <td>1.000000</td>\n",
       "      <td>32.361858</td>\n",
       "      <td>32.704246</td>\n",
       "      <td>31.917774</td>\n",
       "      <td>32.314573</td>\n",
       "      <td>7.141460e+07</td>\n",
       "    </tr>\n",
       "    <tr>\n",
       "      <th>max</th>\n",
       "      <td>117.370000</td>\n",
       "      <td>118.620000</td>\n",
       "      <td>112.250000</td>\n",
       "      <td>116.560000</td>\n",
       "      <td>5.910522e+08</td>\n",
       "      <td>3.080000</td>\n",
       "      <td>2.000000</td>\n",
       "      <td>97.000000</td>\n",
       "      <td>97.240000</td>\n",
       "      <td>96.040000</td>\n",
       "      <td>96.770000</td>\n",
       "      <td>5.910522e+08</td>\n",
       "    </tr>\n",
       "  </tbody>\n",
       "</table>\n",
       "</div>"
      ],
      "text/plain": [
       "              Open         High          Low        Close        Volume  \\\n",
       "count  4586.000000  4586.000000  4586.000000  4586.000000  4.586000e+03   \n",
       "mean     40.286633    40.755574    39.826630    40.288769  5.135335e+07   \n",
       "std      18.614374    18.899496    18.321689    18.602692  2.875247e+07   \n",
       "min      15.200000    15.620000    14.870000    15.150000  5.850800e+06   \n",
       "25%      26.696250    26.930000    26.470000    26.690000  3.225230e+07   \n",
       "50%      30.300000    30.605000    30.055000    30.320000  4.675009e+07   \n",
       "75%      52.655000    53.496250    51.885000    52.735000  6.303825e+07   \n",
       "max     117.370000   118.620000   112.250000   116.560000  5.910522e+08   \n",
       "\n",
       "       Ex-Dividend  Split Ratio    Adj. Open    Adj. High     Adj. Low  \\\n",
       "count  4586.000000  4586.000000  4586.000000  4586.000000  4586.000000   \n",
       "mean      0.003055     1.000218    29.078012    29.373682    28.787272   \n",
       "std       0.051648     0.014767    16.089370    16.182702    15.986585   \n",
       "min       0.000000     1.000000    12.154701    12.490554    11.890816   \n",
       "25%       0.000000     1.000000    19.325016    19.554843    19.091851   \n",
       "50%       0.000000     1.000000    22.564576    22.846906    22.354119   \n",
       "75%       0.000000     1.000000    32.361858    32.704246    31.917774   \n",
       "max       3.080000     2.000000    97.000000    97.240000    96.040000   \n",
       "\n",
       "        Adj. Close   Adj. Volume  \n",
       "count  4586.000000  4.586000e+03  \n",
       "mean     29.083795  5.799623e+07  \n",
       "std      16.094881  3.166583e+07  \n",
       "min      12.114718  7.425503e+06  \n",
       "25%      19.325016  3.686569e+07  \n",
       "50%      22.589808  5.290715e+07  \n",
       "75%      32.314573  7.141460e+07  \n",
       "max      96.770000  5.910522e+08  "
      ]
     },
     "execution_count": 6,
     "metadata": {},
     "output_type": "execute_result"
    }
   ],
   "source": [
    "data.describe()"
   ]
  },
  {
   "cell_type": "code",
   "execution_count": 17,
   "metadata": {},
   "outputs": [
    {
     "data": {
      "text/html": [
       "<div>\n",
       "<style scoped>\n",
       "    .dataframe tbody tr th:only-of-type {\n",
       "        vertical-align: middle;\n",
       "    }\n",
       "\n",
       "    .dataframe tbody tr th {\n",
       "        vertical-align: top;\n",
       "    }\n",
       "\n",
       "    .dataframe thead th {\n",
       "        text-align: right;\n",
       "    }\n",
       "</style>\n",
       "<table border=\"1\" class=\"dataframe\">\n",
       "  <thead>\n",
       "    <tr style=\"text-align: right;\">\n",
       "      <th></th>\n",
       "      <th>Open</th>\n",
       "      <th>High</th>\n",
       "      <th>Low</th>\n",
       "      <th>Close</th>\n",
       "      <th>Volume</th>\n",
       "      <th>Ex-Dividend</th>\n",
       "      <th>Split Ratio</th>\n",
       "      <th>Adj. Open</th>\n",
       "      <th>Adj. High</th>\n",
       "      <th>Adj. Low</th>\n",
       "      <th>Adj. Close</th>\n",
       "      <th>Adj. Volume</th>\n",
       "    </tr>\n",
       "    <tr>\n",
       "      <th>Date</th>\n",
       "      <th></th>\n",
       "      <th></th>\n",
       "      <th></th>\n",
       "      <th></th>\n",
       "      <th></th>\n",
       "      <th></th>\n",
       "      <th></th>\n",
       "      <th></th>\n",
       "      <th></th>\n",
       "      <th></th>\n",
       "      <th></th>\n",
       "      <th></th>\n",
       "    </tr>\n",
       "  </thead>\n",
       "  <tbody>\n",
       "    <tr>\n",
       "      <th>2000-01-03</th>\n",
       "      <td>117.37</td>\n",
       "      <td>118.62</td>\n",
       "      <td>112.00</td>\n",
       "      <td>116.56</td>\n",
       "      <td>26614200.0</td>\n",
       "      <td>0.0</td>\n",
       "      <td>1.0</td>\n",
       "      <td>39.066089</td>\n",
       "      <td>39.482146</td>\n",
       "      <td>37.278708</td>\n",
       "      <td>38.796484</td>\n",
       "      <td>53228400.0</td>\n",
       "    </tr>\n",
       "    <tr>\n",
       "      <th>2000-01-04</th>\n",
       "      <td>113.56</td>\n",
       "      <td>117.12</td>\n",
       "      <td>112.25</td>\n",
       "      <td>112.62</td>\n",
       "      <td>27059500.0</td>\n",
       "      <td>0.0</td>\n",
       "      <td>1.0</td>\n",
       "      <td>37.797947</td>\n",
       "      <td>38.982878</td>\n",
       "      <td>37.361920</td>\n",
       "      <td>37.485073</td>\n",
       "      <td>54119000.0</td>\n",
       "    </tr>\n",
       "    <tr>\n",
       "      <th>2000-01-05</th>\n",
       "      <td>111.12</td>\n",
       "      <td>116.37</td>\n",
       "      <td>109.37</td>\n",
       "      <td>113.81</td>\n",
       "      <td>32029800.0</td>\n",
       "      <td>0.0</td>\n",
       "      <td>1.0</td>\n",
       "      <td>36.985804</td>\n",
       "      <td>38.733244</td>\n",
       "      <td>36.403324</td>\n",
       "      <td>37.881159</td>\n",
       "      <td>64059600.0</td>\n",
       "    </tr>\n",
       "    <tr>\n",
       "      <th>2000-01-06</th>\n",
       "      <td>112.19</td>\n",
       "      <td>113.87</td>\n",
       "      <td>108.37</td>\n",
       "      <td>110.00</td>\n",
       "      <td>27488300.0</td>\n",
       "      <td>0.0</td>\n",
       "      <td>1.0</td>\n",
       "      <td>37.341949</td>\n",
       "      <td>37.901130</td>\n",
       "      <td>36.070479</td>\n",
       "      <td>36.613017</td>\n",
       "      <td>54976600.0</td>\n",
       "    </tr>\n",
       "    <tr>\n",
       "      <th>2000-01-07</th>\n",
       "      <td>108.62</td>\n",
       "      <td>112.25</td>\n",
       "      <td>107.31</td>\n",
       "      <td>111.44</td>\n",
       "      <td>31006800.0</td>\n",
       "      <td>0.0</td>\n",
       "      <td>1.0</td>\n",
       "      <td>36.153690</td>\n",
       "      <td>37.361920</td>\n",
       "      <td>35.717662</td>\n",
       "      <td>37.092315</td>\n",
       "      <td>62013600.0</td>\n",
       "    </tr>\n",
       "  </tbody>\n",
       "</table>\n",
       "</div>"
      ],
      "text/plain": [
       "              Open    High     Low   Close      Volume  Ex-Dividend  \\\n",
       "Date                                                                  \n",
       "2000-01-03  117.37  118.62  112.00  116.56  26614200.0          0.0   \n",
       "2000-01-04  113.56  117.12  112.25  112.62  27059500.0          0.0   \n",
       "2000-01-05  111.12  116.37  109.37  113.81  32029800.0          0.0   \n",
       "2000-01-06  112.19  113.87  108.37  110.00  27488300.0          0.0   \n",
       "2000-01-07  108.62  112.25  107.31  111.44  31006800.0          0.0   \n",
       "\n",
       "            Split Ratio  Adj. Open  Adj. High   Adj. Low  Adj. Close  \\\n",
       "Date                                                                   \n",
       "2000-01-03          1.0  39.066089  39.482146  37.278708   38.796484   \n",
       "2000-01-04          1.0  37.797947  38.982878  37.361920   37.485073   \n",
       "2000-01-05          1.0  36.985804  38.733244  36.403324   37.881159   \n",
       "2000-01-06          1.0  37.341949  37.901130  36.070479   36.613017   \n",
       "2000-01-07          1.0  36.153690  37.361920  35.717662   37.092315   \n",
       "\n",
       "            Adj. Volume  \n",
       "Date                     \n",
       "2000-01-03   53228400.0  \n",
       "2000-01-04   54119000.0  \n",
       "2000-01-05   64059600.0  \n",
       "2000-01-06   54976600.0  \n",
       "2000-01-07   62013600.0  "
      ]
     },
     "execution_count": 17,
     "metadata": {},
     "output_type": "execute_result"
    }
   ],
   "source": [
    "data.head()"
   ]
  },
  {
   "cell_type": "code",
   "execution_count": 8,
   "metadata": {},
   "outputs": [
    {
     "data": {
      "text/plain": [
       "Text(0,0.5,'Volume')"
      ]
     },
     "execution_count": 8,
     "metadata": {},
     "output_type": "execute_result"
    },
    {
     "data": {
      "image/png": "[encoded data removed]",
      "text/plain": [
       "<matplotlib.figure.Figure at 0x7fdffb467358>"
      ]
     },
     "metadata": {},
     "output_type": "display_data"
    }
   ],
   "source": [
    "plt.figure(figsize=(16,9))\n",
    "top = plt.subplot2grid((4,4), (0, 0), rowspan=3, colspan=4)\n",
    "bottom = plt.subplot2grid((4,4), (3,0), rowspan=1, colspan=4)\n",
    "top.plot(data.index, data['Close']) #CMT.index gives the dates\n",
    "bottom.bar(data.index, data['Volume']) \n",
    " \n",
    "# set the labels\n",
    "top.axes.get_xaxis().set_visible(False)\n",
    "top.set_title('CapitalMall Trust')\n",
    "top.set_ylabel('Closing Price')\n",
    "bottom.set_ylabel('Volume')"
   ]
  },
  {
   "cell_type": "code",
   "execution_count": 9,
   "metadata": {},
   "outputs": [
    {
     "data": {
      "text/plain": [
       "<matplotlib.axes._subplots.AxesSubplot at 0x7fe07599e898>"
      ]
     },
     "execution_count": 9,
     "metadata": {},
     "output_type": "execute_result"
    },
    {
     "data": {
      "image/png": "[encoded data removed]",
      "text/plain": [
       "<matplotlib.figure.Figure at 0x7fdffb488b70>"
      ]
     },
     "metadata": {},
     "output_type": "display_data"
    }
   ],
   "source": [
    "import seaborn as sns\n",
    "plt.figure(figsize=(16,9))\n",
    "sns.distplot(data['Close'].dropna(), bins=50, color='purple')"
   ]
  },
  {
   "cell_type": "markdown",
   "metadata": {},
   "source": [
    "# Data Normalization and Columns pick"
   ]
  },
  {
   "cell_type": "code",
   "execution_count": 10,
   "metadata": {},
   "outputs": [],
   "source": [
    "def normalize(df):\n",
    "    result = df.copy()\n",
    "    min_dict = {}\n",
    "    max_dict = {}\n",
    "    \n",
    "    for feature_name in df.columns:\n",
    "        max_value = df[feature_name].max()\n",
    "        min_value = df[feature_name].min()\n",
    "        max_dict[feature_name] = max_value;\n",
    "        min_dict[feature_name] = min_value;\n",
    "        result[feature_name] = (df[feature_name] - min_value) / (max_value - min_value)\n",
    "        \n",
    "    min_max_dict_list = [min_dict, max_dict]\n",
    "    \n",
    "    return result, min_max_dict_list"
   ]
  },
  {
   "cell_type": "code",
   "execution_count": 26,
   "metadata": {},
   "outputs": [],
   "source": [
    "df,  min_max_dict_list = normalize(data.drop(columns=['Adj. Open','Adj. High','Adj. Low','Adj. Volume','Adj. Close', 'Ex-Dividend', 'Split Ratio']))"
   ]
  },
  {
   "cell_type": "code",
   "execution_count": 27,
   "metadata": {},
   "outputs": [],
   "source": [
    "df = df.astype('float32')"
   ]
  },
  {
   "cell_type": "code",
   "execution_count": 28,
   "metadata": {},
   "outputs": [
    {
     "name": "stdout",
     "output_type": "stream",
     "text": [
      "{'Volume': 5850800.0, 'Low': 14.87, 'Close': 15.15, 'Open': 15.2, 'High': 15.62}\n",
      "{'Volume': 591052200.0, 'Low': 112.25, 'Close': 116.56, 'Open': 117.37, 'High': 118.62}\n"
     ]
    }
   ],
   "source": [
    "print(min_max_dict_list[0]) # minimum values per column\n",
    "print(min_max_dict_list[1]) # maximum values per column"
   ]
  },
  {
   "cell_type": "markdown",
   "metadata": {},
   "source": [
    "# Add the Target column - X days in the future prediction"
   ]
  },
  {
   "cell_type": "code",
   "execution_count": 29,
   "metadata": {},
   "outputs": [],
   "source": [
    "shift_days_target = 3"
   ]
  },
  {
   "cell_type": "code",
   "execution_count": 30,
   "metadata": {},
   "outputs": [],
   "source": [
    "## Add the target (price X days in the future)\n",
    "df['target'] = df.Close.shift(-shift_days_target)"
   ]
  },
  {
   "cell_type": "code",
   "execution_count": 31,
   "metadata": {},
   "outputs": [],
   "source": [
    "df.dropna(inplace=True)"
   ]
  },
  {
   "cell_type": "code",
   "execution_count": 32,
   "metadata": {},
   "outputs": [
    {
     "data": {
      "text/html": [
       "<div>\n",
       "<style scoped>\n",
       "    .dataframe tbody tr th:only-of-type {\n",
       "        vertical-align: middle;\n",
       "    }\n",
       "\n",
       "    .dataframe tbody tr th {\n",
       "        vertical-align: top;\n",
       "    }\n",
       "\n",
       "    .dataframe thead th {\n",
       "        text-align: right;\n",
       "    }\n",
       "</style>\n",
       "<table border=\"1\" class=\"dataframe\">\n",
       "  <thead>\n",
       "    <tr style=\"text-align: right;\">\n",
       "      <th></th>\n",
       "      <th>Open</th>\n",
       "      <th>High</th>\n",
       "      <th>Low</th>\n",
       "      <th>Close</th>\n",
       "      <th>Volume</th>\n",
       "      <th>target</th>\n",
       "    </tr>\n",
       "    <tr>\n",
       "      <th>Date</th>\n",
       "      <th></th>\n",
       "      <th></th>\n",
       "      <th></th>\n",
       "      <th></th>\n",
       "      <th></th>\n",
       "      <th></th>\n",
       "    </tr>\n",
       "  </thead>\n",
       "  <tbody>\n",
       "    <tr>\n",
       "      <th>2000-01-03</th>\n",
       "      <td>1.000000</td>\n",
       "      <td>1.000000</td>\n",
       "      <td>0.997433</td>\n",
       "      <td>1.000000</td>\n",
       "      <td>0.035481</td>\n",
       "      <td>0.935312</td>\n",
       "    </tr>\n",
       "    <tr>\n",
       "      <th>2000-01-04</th>\n",
       "      <td>0.962709</td>\n",
       "      <td>0.985437</td>\n",
       "      <td>1.000000</td>\n",
       "      <td>0.961148</td>\n",
       "      <td>0.036242</td>\n",
       "      <td>0.949512</td>\n",
       "    </tr>\n",
       "    <tr>\n",
       "      <th>2000-01-05</th>\n",
       "      <td>0.938827</td>\n",
       "      <td>0.978155</td>\n",
       "      <td>0.970425</td>\n",
       "      <td>0.972882</td>\n",
       "      <td>0.044735</td>\n",
       "      <td>0.957499</td>\n",
       "    </tr>\n",
       "    <tr>\n",
       "      <th>2000-01-06</th>\n",
       "      <td>0.949300</td>\n",
       "      <td>0.953883</td>\n",
       "      <td>0.960156</td>\n",
       "      <td>0.935312</td>\n",
       "      <td>0.036974</td>\n",
       "      <td>0.929100</td>\n",
       "    </tr>\n",
       "    <tr>\n",
       "      <th>2000-01-07</th>\n",
       "      <td>0.914358</td>\n",
       "      <td>0.938155</td>\n",
       "      <td>0.949271</td>\n",
       "      <td>0.949512</td>\n",
       "      <td>0.042987</td>\n",
       "      <td>0.893995</td>\n",
       "    </tr>\n",
       "    <tr>\n",
       "      <th>2000-01-10</th>\n",
       "      <td>0.961535</td>\n",
       "      <td>0.952136</td>\n",
       "      <td>0.990963</td>\n",
       "      <td>0.957499</td>\n",
       "      <td>0.028419</td>\n",
       "      <td>0.913717</td>\n",
       "    </tr>\n",
       "    <tr>\n",
       "      <th>2000-01-11</th>\n",
       "      <td>0.942547</td>\n",
       "      <td>0.957573</td>\n",
       "      <td>0.963442</td>\n",
       "      <td>0.929100</td>\n",
       "      <td>0.029940</td>\n",
       "      <td>0.957499</td>\n",
       "    </tr>\n",
       "    <tr>\n",
       "      <th>2000-01-12</th>\n",
       "      <td>0.913184</td>\n",
       "      <td>0.905340</td>\n",
       "      <td>0.919799</td>\n",
       "      <td>0.893995</td>\n",
       "      <td>0.046848</td>\n",
       "      <td>0.987674</td>\n",
       "    </tr>\n",
       "    <tr>\n",
       "      <th>2000-01-13</th>\n",
       "      <td>0.872761</td>\n",
       "      <td>0.902913</td>\n",
       "      <td>0.889608</td>\n",
       "      <td>0.913717</td>\n",
       "      <td>0.061041</td>\n",
       "      <td>0.905729</td>\n",
       "    </tr>\n",
       "    <tr>\n",
       "      <th>2000-01-14</th>\n",
       "      <td>0.900362</td>\n",
       "      <td>0.954563</td>\n",
       "      <td>0.933251</td>\n",
       "      <td>0.957499</td>\n",
       "      <td>0.052730</td>\n",
       "      <td>0.895868</td>\n",
       "    </tr>\n",
       "    <tr>\n",
       "      <th>2000-01-18</th>\n",
       "      <td>0.945581</td>\n",
       "      <td>0.979418</td>\n",
       "      <td>0.994865</td>\n",
       "      <td>0.987674</td>\n",
       "      <td>0.059622</td>\n",
       "      <td>0.873681</td>\n",
       "    </tr>\n",
       "    <tr>\n",
       "      <th>2000-01-19</th>\n",
       "      <td>0.932759</td>\n",
       "      <td>0.930874</td>\n",
       "      <td>0.935818</td>\n",
       "      <td>0.905729</td>\n",
       "      <td>0.073365</td>\n",
       "      <td>0.849029</td>\n",
       "    </tr>\n",
       "    <tr>\n",
       "      <th>2000-01-20</th>\n",
       "      <td>0.899090</td>\n",
       "      <td>0.913301</td>\n",
       "      <td>0.934483</td>\n",
       "      <td>0.895868</td>\n",
       "      <td>0.038148</td>\n",
       "      <td>0.864412</td>\n",
       "    </tr>\n",
       "    <tr>\n",
       "      <th>2000-01-21</th>\n",
       "      <td>0.898502</td>\n",
       "      <td>0.889612</td>\n",
       "      <td>0.907579</td>\n",
       "      <td>0.873681</td>\n",
       "      <td>0.048457</td>\n",
       "      <td>0.830490</td>\n",
       "    </tr>\n",
       "    <tr>\n",
       "      <th>2000-01-24</th>\n",
       "      <td>0.867182</td>\n",
       "      <td>0.874466</td>\n",
       "      <td>0.882522</td>\n",
       "      <td>0.849029</td>\n",
       "      <td>0.044340</td>\n",
       "      <td>0.824376</td>\n",
       "    </tr>\n",
       "    <tr>\n",
       "      <th>2000-01-25</th>\n",
       "      <td>0.839777</td>\n",
       "      <td>0.856796</td>\n",
       "      <td>0.869686</td>\n",
       "      <td>0.864412</td>\n",
       "      <td>0.041115</td>\n",
       "      <td>0.819446</td>\n",
       "    </tr>\n",
       "  </tbody>\n",
       "</table>\n",
       "</div>"
      ],
      "text/plain": [
       "                Open      High       Low     Close    Volume    target\n",
       "Date                                                                  \n",
       "2000-01-03  1.000000  1.000000  0.997433  1.000000  0.035481  0.935312\n",
       "2000-01-04  0.962709  0.985437  1.000000  0.961148  0.036242  0.949512\n",
       "2000-01-05  0.938827  0.978155  0.970425  0.972882  0.044735  0.957499\n",
       "2000-01-06  0.949300  0.953883  0.960156  0.935312  0.036974  0.929100\n",
       "2000-01-07  0.914358  0.938155  0.949271  0.949512  0.042987  0.893995\n",
       "2000-01-10  0.961535  0.952136  0.990963  0.957499  0.028419  0.913717\n",
       "2000-01-11  0.942547  0.957573  0.963442  0.929100  0.029940  0.957499\n",
       "2000-01-12  0.913184  0.905340  0.919799  0.893995  0.046848  0.987674\n",
       "2000-01-13  0.872761  0.902913  0.889608  0.913717  0.061041  0.905729\n",
       "2000-01-14  0.900362  0.954563  0.933251  0.957499  0.052730  0.895868\n",
       "2000-01-18  0.945581  0.979418  0.994865  0.987674  0.059622  0.873681\n",
       "2000-01-19  0.932759  0.930874  0.935818  0.905729  0.073365  0.849029\n",
       "2000-01-20  0.899090  0.913301  0.934483  0.895868  0.038148  0.864412\n",
       "2000-01-21  0.898502  0.889612  0.907579  0.873681  0.048457  0.830490\n",
       "2000-01-24  0.867182  0.874466  0.882522  0.849029  0.044340  0.824376\n",
       "2000-01-25  0.839777  0.856796  0.869686  0.864412  0.041115  0.819446"
      ]
     },
     "execution_count": 32,
     "metadata": {},
     "output_type": "execute_result"
    }
   ],
   "source": [
    "df.head(16)"
   ]
  },
  {
   "cell_type": "markdown",
   "metadata": {},
   "source": [
    "# Function to load/prepare data for modeling"
   ]
  },
  {
   "cell_type": "code",
   "execution_count": 35,
   "metadata": {},
   "outputs": [],
   "source": [
    "def prepare_data_for_modeling(stock, seq_len):\n",
    "    data = stock.values #converts to numpy\n",
    "    result = []\n",
    "    for index in range(len(data) - seq_len):\n",
    "        result.append(data[index: index + seq_len])\n",
    "\n",
    "    result = np.array(result)    \n",
    "    row = round(0.9 * result.shape[0])\n",
    "    train = result[:int(row), :]\n",
    "    x_train = train[:,:,:-1] # All rows, all time steps, all feauture minus de last column\n",
    "    y_train = train[:,-1,-1] # All rows, only the last step, the last column\n",
    "    x_test = result[int(row):,:,:-1] \n",
    "    y_test = result[int(row):,-1,-1]\n",
    "\n",
    "    return [x_train, y_train, x_test, y_test]"
   ]
  },
  {
   "cell_type": "markdown",
   "metadata": {},
   "source": [
    "# Function to define the RNN model"
   ]
  },
  {
   "cell_type": "code",
   "execution_count": 36,
   "metadata": {},
   "outputs": [],
   "source": [
    "def build_model(moving_window, num_features):\n",
    "        d = 0.3\n",
    "        model = Sequential()\n",
    "        model.add(LSTM(96, input_shape=(moving_window, num_features), return_sequences=False))\n",
    "        model.add(Dropout(d))\n",
    "        model.add(Dense(16, kernel_initializer=\"uniform\", activation=\"relu\"))\n",
    "        model.add(Dense(1, kernel_initializer=\"uniform\",activation='relu'))\n",
    "        model.compile(loss='mse', optimizer='adam', metrics=['mae'])\n",
    "        return model"
   ]
  },
  {
   "cell_type": "markdown",
   "metadata": {},
   "source": [
    "# Run the model"
   ]
  },
  {
   "cell_type": "code",
   "execution_count": 38,
   "metadata": {},
   "outputs": [
    {
     "name": "stdout",
     "output_type": "stream",
     "text": [
      "X_train (4116, 10, 5)\n",
      "y_train (4116,)\n",
      "X_test (457, 10, 5)\n",
      "y_test (457,)\n"
     ]
    }
   ],
   "source": [
    "window = 10\n",
    "X_train, y_train, X_test, y_test = prepare_data_for_modeling(df[::-1], window)\n",
    "print(\"X_train\", X_train.shape)\n",
    "print(\"y_train\", y_train.shape)\n",
    "print(\"X_test\", X_test.shape)\n",
    "print(\"y_test\", y_test.shape)"
   ]
  },
  {
   "cell_type": "code",
   "execution_count": 39,
   "metadata": {},
   "outputs": [],
   "source": [
    "model = build_model(window,len(X_train[0][0]))"
   ]
  },
  {
   "cell_type": "code",
   "execution_count": 40,
   "metadata": {},
   "outputs": [
    {
     "name": "stdout",
     "output_type": "stream",
     "text": [
      "_________________________________________________________________\n",
      "Layer (type)                 Output Shape              Param #   \n",
      "=================================================================\n",
      "lstm_1 (LSTM)                (None, 96)                39168     \n",
      "_________________________________________________________________\n",
      "dropout_1 (Dropout)          (None, 96)                0         \n",
      "_________________________________________________________________\n",
      "dense_1 (Dense)              (None, 16)                1552      \n",
      "_________________________________________________________________\n",
      "dense_2 (Dense)              (None, 1)                 17        \n",
      "=================================================================\n",
      "Total params: 40,737\n",
      "Trainable params: 40,737\n",
      "Non-trainable params: 0\n",
      "_________________________________________________________________\n",
      "None\n"
     ]
    }
   ],
   "source": [
    "# Verify the architecture \n",
    "print(model.summary())"
   ]
  },
  {
   "cell_type": "code",
   "execution_count": 41,
   "metadata": {},
   "outputs": [],
   "source": [
    "# checkpoint callback\n",
    "checkpoint = keras.callbacks.ModelCheckpoint(MODEL_WEIGHTS, monitor='val_loss', verbose=1, save_best_only=True, mode='min')"
   ]
  },
  {
   "cell_type": "code",
   "execution_count": 42,
   "metadata": {},
   "outputs": [],
   "source": [
    "# early stop callback\n",
    "earlystop = keras.callbacks.EarlyStopping(monitor='val_loss', min_delta=0, patience=200, verbose=1, mode='min')"
   ]
  },
  {
   "cell_type": "code",
   "execution_count": 43,
   "metadata": {},
   "outputs": [
    {
     "data": {
      "image/png": "[encoded data removed]",
      "text/plain": [
       "<matplotlib.figure.Figure at 0x7fdfe5eed080>"
      ]
     },
     "metadata": {},
     "output_type": "display_data"
    },
    {
     "name": "stdout",
     "output_type": "stream",
     "text": [
      "\n",
      "Epoch 00878: val_loss did not improve\n",
      "Epoch 00878: early stopping\n",
      "CPU times: user 4min 49s, sys: 5.81 s, total: 4min 55s\n",
      "Wall time: 4min 55s\n"
     ]
    }
   ],
   "source": [
    "%%time\n",
    "from livelossplot import PlotLossesKeras\n",
    "\n",
    "#Step 3 Train the model\n",
    "history = model.fit(\n",
    "    X_train,\n",
    "    y_train,\n",
    "    batch_size=512,\n",
    "    epochs=1500,\n",
    "    validation_split=0.1,\n",
    "    verbose=0,\n",
    "    callbacks=[PlotLossesKeras(), checkpoint, earlystop])"
   ]
  },
  {
   "cell_type": "markdown",
   "metadata": {},
   "source": [
    "# Check and plot results"
   ]
  },
  {
   "cell_type": "code",
   "execution_count": 44,
   "metadata": {},
   "outputs": [
    {
     "name": "stdout",
     "output_type": "stream",
     "text": [
      "Train Score: 0.00035113 MSE (0.01874 RMSE)\n",
      "Test Score: 0.00026281 MSE (0.01621 RMSE)\n"
     ]
    }
   ],
   "source": [
    "import math\n",
    "\n",
    "trainScore = model.evaluate(X_train, y_train, verbose=0)\n",
    "print('Train Score: %.8f MSE (%.5f RMSE)' % (trainScore[0], math.sqrt(trainScore[0])))\n",
    "\n",
    "testScore = model.evaluate(X_test, y_test, verbose=0)\n",
    "print('Test Score: %.8f MSE (%.5f RMSE)' % (testScore[0], math.sqrt(testScore[0])))"
   ]
  },
  {
   "cell_type": "code",
   "execution_count": 45,
   "metadata": {},
   "outputs": [
    {
     "name": "stdout",
     "output_type": "stream",
     "text": [
      "Best Weights loaded\n",
      "Train Score: 0.00002807 MSE (0.00530 RMSE)\n",
      "Test Score: 0.00027719 MSE (0.01665 RMSE)\n"
     ]
    }
   ],
   "source": [
    "#bring the best weights and see test scores again\n",
    "\n",
    "# load weights into new model\n",
    "model.load_weights(MODEL_WEIGHTS)\n",
    "print(\"Best Weights loaded\")\n",
    "\n",
    "trainScore = model.evaluate(X_train, y_train, verbose=0)\n",
    "print('Train Score: %.8f MSE (%.5f RMSE)' % (trainScore[0], math.sqrt(trainScore[0])))\n",
    "\n",
    "testScore = model.evaluate(X_test, y_test, verbose=0)\n",
    "print('Test Score: %.8f MSE (%.5f RMSE)' % (testScore[0], math.sqrt(testScore[0])))"
   ]
  },
  {
   "cell_type": "code",
   "execution_count": 46,
   "metadata": {},
   "outputs": [],
   "source": [
    "yhat = model.predict(X_test)"
   ]
  },
  {
   "cell_type": "code",
   "execution_count": 47,
   "metadata": {},
   "outputs": [
    {
     "data": {
      "application/javascript": [
       "IPython.OutputArea.prototype._should_scroll = function(lines) {\n",
       "    return false;\n",
       "}"
      ],
      "text/plain": [
       "<IPython.core.display.Javascript object>"
      ]
     },
     "metadata": {},
     "output_type": "display_data"
    }
   ],
   "source": [
    "%%javascript\n",
    "IPython.OutputArea.prototype._should_scroll = function(lines) {\n",
    "    return false;\n",
    "}"
   ]
  },
  {
   "cell_type": "code",
   "execution_count": 48,
   "metadata": {
    "scrolled": true
   },
   "outputs": [
    {
     "data": {
      "image/png": "[encoded data removed]",
      "text/plain": [
       "<matplotlib.figure.Figure at 0x7fdfc01f0b00>"
      ]
     },
     "metadata": {},
     "output_type": "display_data"
    }
   ],
   "source": [
    "plt.rcParams[\"figure.figsize\"] = [16,9]\n",
    "plt.plot(yhat,color='red', label='prediction')\n",
    "plt.plot(y_test,color='blue', label='y_test')\n",
    "plt.legend(loc='lower left')\n",
    "plt.show()"
   ]
  },
  {
   "cell_type": "markdown",
   "metadata": {},
   "source": [
    "# Saving the model\n",
    "The LSTM network is made up of two components, the architecture and the model weights. We already has the best weights loaded, so we now need to save the model and weights together in one h5 file."
   ]
  },
  {
   "cell_type": "code",
   "execution_count": 49,
   "metadata": {},
   "outputs": [
    {
     "name": "stdout",
     "output_type": "stream",
     "text": [
      "Model saved\n"
     ]
    }
   ],
   "source": [
    "import os\n",
    "    \n",
    "# save model\n",
    "model.save(LSTM_MODEL)\n",
    "print(\"Model saved\")"
   ]
  },
  {
   "cell_type": "markdown",
   "metadata": {},
   "source": [
    "# Saving the MIN and MAX values of each column\n",
    "We need to save these values max_dict and min_dict into a pickle file, because we are going to need them later in operationalization of the model in order to transfor the realtime data"
   ]
  },
  {
   "cell_type": "code",
   "execution_count": 50,
   "metadata": {},
   "outputs": [
    {
     "name": "stdout",
     "output_type": "stream",
     "text": [
      "Min-Max values saved\n"
     ]
    }
   ],
   "source": [
    "import pickle\n",
    "\n",
    "with open(MIN_MAX_DICT, 'wb') as handle:\n",
    "    pickle.dump(min_max_dict_list, handle, protocol=pickle.HIGHEST_PROTOCOL)\n",
    "print(\"Min-Max values saved\")"
   ]
  },
  {
   "cell_type": "markdown",
   "metadata": {},
   "source": [
    "To test the save operations, we can reload the model files into a test model loaded_model and rescore the test dataset."
   ]
  },
  {
   "cell_type": "code",
   "execution_count": 53,
   "metadata": {},
   "outputs": [
    {
     "name": "stdout",
     "output_type": "stream",
     "text": [
      "Model Loaded\n",
      "Min_max List loaded\n"
     ]
    }
   ],
   "source": [
    "from keras.models import load_model\n",
    "\n",
    "# returns a compiled model\n",
    "# identical to the previous one\n",
    "loaded_model = load_model(LSTM_MODEL)\n",
    "print(\"Model Loaded\")\n",
    "\n",
    "# Load Min Max list values\n",
    "with open(MIN_MAX_DICT, 'rb') as handle:\n",
    "    loaded_min_max_dict_list = pickle.load(handle)\n",
    "\n",
    "if (min_max_dict_list == loaded_min_max_dict_list):\n",
    "    print(\"Min_max List loaded\")\n"
   ]
  },
  {
   "cell_type": "markdown",
   "metadata": {},
   "source": [
    "The model constructed from storage can be used to predict"
   ]
  },
  {
   "cell_type": "code",
   "execution_count": 54,
   "metadata": {},
   "outputs": [
    {
     "name": "stdout",
     "output_type": "stream",
     "text": [
      "[[[0.48448664 0.49339807 0.5009242  0.49935904 0.03934645]\n",
      "  [0.4809631  0.48572814 0.50359416 0.49363968 0.03102522]\n",
      "  [0.48213762 0.48970875 0.5010269  0.48584953 0.0534228 ]\n",
      "  [0.4797886  0.47990292 0.5048264  0.48417315 0.04032578]\n",
      "  [0.46491143 0.47883496 0.48562333 0.48939946 0.04862463]\n",
      "  [0.45668983 0.47       0.481413   0.47450942 0.04673605]\n",
      "  [0.45737496 0.46019417 0.4686794  0.4560694  0.06122542]\n",
      "  [0.43926787 0.45271844 0.45933455 0.46040824 0.08370588]\n",
      "  [0.43163356 0.43796116 0.44393098 0.4240213  0.04528219]\n",
      "  [0.42791426 0.42640775 0.4448552  0.4312198  0.03904126]]]\n",
      "(1, 10, 5)\n",
      "(1, 1)\n",
      "[[0.45657307]]\n"
     ]
    }
   ],
   "source": [
    "test_row = X_test[:1]\n",
    "print(test_row)\n",
    "print(test_row.shape)\n",
    "score = loaded_model.predict(test_row)\n",
    "print(score.shape)\n",
    "print(score)"
   ]
  },
  {
   "cell_type": "markdown",
   "metadata": {
    "collapsed": true
   },
   "source": [
    "# So, where to go from here?"
   ]
  },
  {
   "cell_type": "markdown",
   "metadata": {},
   "source": [
    "Well, as you can imagine, this is a simple MANY-TO-ONE prediction. The model is predicting the next Time Step by getting as input a window (sequence) of past measures.\n",
    "This model can be improved by:\n",
    "    1. Making the series stationary and using StandardScaler vs MaxMinScaler\n",
    "    2. Predicting the next N steps (multi-step prediction) by using seq2seq models vs a simple RNN (like above)\n",
    "    3. And the most important of all: Adding more signals/features/columns\n"
   ]
  }
 ],
 "metadata": {
  "kernelspec": {
   "display_name": "Python 3",
   "language": "python",
   "name": "python3"
  },
  "language_info": {
   "codemirror_mode": {
    "name": "ipython",
    "version": 3
   },
   "file_extension": ".py",
   "mimetype": "text/x-python",
   "name": "python",
   "nbconvert_exporter": "python",
   "pygments_lexer": "ipython3",
   "version": "3.5.4"
  },
  "widgets": {
   "state": {},
   "version": "1.1.2"
  }
 },
 "nbformat": 4,
 "nbformat_minor": 2
}
