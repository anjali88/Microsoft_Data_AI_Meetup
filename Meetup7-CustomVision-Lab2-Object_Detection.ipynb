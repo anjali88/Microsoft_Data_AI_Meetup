{
 "cells": [
  {
   "cell_type": "markdown",
   "metadata": {},
   "source": [
    "## Initialize the libraries and origin and destination workspaces"
   ]
  },
  {
   "cell_type": "code",
   "execution_count": null,
   "metadata": {},
   "outputs": [],
   "source": [
    "#This is only one time run\n",
    "!pip install azure-cognitiveservices-vision-customvision"
   ]
  },
  {
   "cell_type": "code",
   "execution_count": 2,
   "metadata": {},
   "outputs": [],
   "source": [
    "from azure.cognitiveservices.vision.customvision.training import training_api\n",
    "from azure.cognitiveservices.vision.customvision.training.models import ImageUrlCreateEntry, Region\n",
    "\n",
    "# DESTINATION Resource Group Keys\n",
    "dest_training_key = \"<YOUR TRAINING KEY>\"\n",
    "dest_prediction_key = \"<YOUR PREDICTION KEY>\"\n",
    "dest_project_new_name = \"PowerItems_Detection_Copy\"\n",
    "\n",
    "# ORIGIN Resource Group Keys\n",
    "training_key = \"970bf90c200d4f429a233dee4239e8f1\"\n",
    "prediction_key = \"23287e52d75349138403089743a504ab\"\n",
    "\n",
    "trainer = training_api.TrainingApi(training_key)\n",
    "dest_trainer = training_api.TrainingApi(dest_training_key)\n",
    "\n",
    "# Find the object detection domain\n",
    "obj_detection_domain = next(domain for domain in trainer.get_domains() if domain.type == \"ObjectDetection\")\n",
    "dest_obj_detection_domain = next(domain for domain in dest_trainer.get_domains() if domain.type == \"ObjectDetection\")"
   ]
  },
  {
   "cell_type": "markdown",
   "metadata": {},
   "source": [
    "## Get the origin project ID reference"
   ]
  },
  {
   "cell_type": "code",
   "execution_count": 3,
   "metadata": {},
   "outputs": [],
   "source": [
    "myProjects = trainer.get_projects()"
   ]
  },
  {
   "cell_type": "code",
   "execution_count": 4,
   "metadata": {},
   "outputs": [
    {
     "name": "stdout",
     "output_type": "stream",
     "text": [
      "PowerItems_Detection_Copy\n",
      "9605b559-83e4-4f6b-827e-326a790ed945\n",
      "\n",
      "PowerItems_Detection\n",
      "70e7718a-e1f1-45d5-bba1-60b224f55365\n",
      "Model to detect Power line objects\n"
     ]
    }
   ],
   "source": [
    "for project in myProjects:\n",
    "    print(project.name)\n",
    "    print(project.id)\n",
    "    print(project.description)"
   ]
  },
  {
   "cell_type": "code",
   "execution_count": 5,
   "metadata": {},
   "outputs": [],
   "source": [
    "Project = trainer.get_project(project_id=\"70e7718a-e1f1-45d5-bba1-60b224f55365\")"
   ]
  },
  {
   "cell_type": "markdown",
   "metadata": {},
   "source": [
    "## Create the destination Project "
   ]
  },
  {
   "cell_type": "code",
   "execution_count": 7,
   "metadata": {},
   "outputs": [],
   "source": [
    "dest_Project = dest_trainer.create_project(dest_project_new_name, domain_id=dest_obj_detection_domain.id)"
   ]
  },
  {
   "cell_type": "code",
   "execution_count": 8,
   "metadata": {},
   "outputs": [
    {
     "name": "stdout",
     "output_type": "stream",
     "text": [
      "PowerItems_Detection_Copy\n",
      "16864536-7649-4fbb-bc03-41ca42e337c5\n",
      "\n",
      "PowerItems_Detection\n",
      "70e7718a-e1f1-45d5-bba1-60b224f55365\n",
      "Model to detect Power line objects\n"
     ]
    }
   ],
   "source": [
    "for project in dest_trainer.get_projects():\n",
    "    print(project.name)\n",
    "    print(project.id)\n",
    "    print(project.description)"
   ]
  },
  {
   "cell_type": "markdown",
   "metadata": {},
   "source": [
    "## Get the tags on origin project and create same tags on destination project"
   ]
  },
  {
   "cell_type": "code",
   "execution_count": 9,
   "metadata": {
    "scrolled": true
   },
   "outputs": [
    {
     "name": "stdout",
     "output_type": "stream",
     "text": [
      "crossarm\n",
      "pole\n",
      "insulator\n",
      "switch\n",
      "transformer\n"
     ]
    }
   ],
   "source": [
    "dest_tags = []\n",
    "for tag in trainer.get_tags(Project.id):\n",
    "    dest_tags.append(dest_trainer.create_tag(dest_Project.id, tag.name))\n",
    "    print(tag.name)"
   ]
  },
  {
   "cell_type": "code",
   "execution_count": 10,
   "metadata": {},
   "outputs": [
    {
     "name": "stdout",
     "output_type": "stream",
     "text": [
      "{'crossarm': '43f5a169-49c9-4add-9091-25be98fc659a', 'switch': '0e6e289e-15e1-481e-b281-1365fcee5d25', 'transformer': '3415ab3c-14af-4eb3-938a-35d32eaa8421', 'pole': '0b8bdf6e-d2c9-472f-92fa-604658912552', 'insulator': '1cabd6ae-8150-4307-a7c3-1c15b61448c9'}\n",
      "['43f5a169-49c9-4add-9091-25be98fc659a', '0b8bdf6e-d2c9-472f-92fa-604658912552', '1cabd6ae-8150-4307-a7c3-1c15b61448c9', '0e6e289e-15e1-481e-b281-1365fcee5d25', '3415ab3c-14af-4eb3-938a-35d32eaa8421']\n"
     ]
    }
   ],
   "source": [
    "dest_tags_dict = {}\n",
    "dest_tag_ids = []\n",
    "for tag in dest_tags:\n",
    "    dest_tags_dict[tag.name] = tag.id\n",
    "    dest_tag_ids.append(tag.id)\n",
    "\n",
    "print(dest_tags_dict)\n",
    "print(dest_tag_ids)"
   ]
  },
  {
   "cell_type": "markdown",
   "metadata": {},
   "source": [
    "## Get the images with regions on origin project"
   ]
  },
  {
   "cell_type": "code",
   "execution_count": 11,
   "metadata": {},
   "outputs": [],
   "source": [
    "tagged_images = trainer.get_tagged_images(Project.id, take=trainer.get_tagged_image_count(Project.id))"
   ]
  },
  {
   "cell_type": "code",
   "execution_count": 12,
   "metadata": {},
   "outputs": [
    {
     "name": "stdout",
     "output_type": "stream",
     "text": [
      "Done\n"
     ]
    }
   ],
   "source": [
    "tagged_images_with_regions = []\n",
    "for image in tagged_images:\n",
    "    dest_regions = []\n",
    "    dest_tags_ids = []\n",
    "    \n",
    "    for tag in image.tags: #for each tag on the origin image\n",
    "        dest_tags_ids.append(dest_tags_dict[tag.tag_name]) \n",
    "    for region in image.regions: #for each region on the origin image\n",
    "        dest_regions.append(Region(tag_id=dest_tags_dict[region.tag_name], left=region.left, top=region.top, width=region.width, height=region.height))\n",
    "    \n",
    "    tagged_images_with_regions.append(ImageUrlCreateEntry(url=image.image_uri, tag_ids=dest_tags_ids, regions=dest_regions))\n",
    "print(\"Done\")"
   ]
  },
  {
   "cell_type": "markdown",
   "metadata": {},
   "source": [
    "## Create the images with regions on destination project"
   ]
  },
  {
   "cell_type": "code",
   "execution_count": 13,
   "metadata": {},
   "outputs": [],
   "source": [
    "limit = 64 # this is a limit imposed on the API, so we need to batch the creation process\n",
    "count_of_images = len(tagged_images_with_regions)\n",
    "\n",
    "for i in range(0,count_of_images,limit):\n",
    "    begin=i\n",
    "    end=limit+i\n",
    "    if(end > count_of_images ): end = count_of_images\n",
    "    dest_trainer.create_images_from_urls(dest_Project.id, images=tagged_images_with_regions[begin:end])"
   ]
  },
  {
   "cell_type": "code",
   "execution_count": 14,
   "metadata": {},
   "outputs": [
    {
     "name": "stdout",
     "output_type": "stream",
     "text": [
      "Count of Tagged images on origin project: 220\n",
      "Count of Tagged images on destination project: 220\n"
     ]
    }
   ],
   "source": [
    "print(\"Count of Tagged images on origin project: \" + str(trainer.get_tagged_image_count(Project.id)))\n",
    "print(\"Count of Tagged images on destination project: \" + str(dest_trainer.get_tagged_image_count(dest_Project.id)))"
   ]
  },
  {
   "cell_type": "markdown",
   "metadata": {},
   "source": [
    "## Train the model on destination Project"
   ]
  },
  {
   "cell_type": "code",
   "execution_count": 15,
   "metadata": {},
   "outputs": [
    {
     "name": "stdout",
     "output_type": "stream",
     "text": [
      "Training... (showing status each 10 seconds)\n",
      "Training status: Training\n",
      "Training status: Training\n",
      "Training status: Training\n",
      "Training status: Training\n",
      "Training status: Training\n",
      "Training status: Training\n",
      "Training status: Training\n",
      "Training status: Training\n",
      "Training status: Training\n",
      "Training status: Training\n",
      "Training status: Training\n",
      "Training status: Training\n",
      "Training status: Training\n",
      "Training status: Training\n",
      "Training status: Training\n",
      "Training status: Training\n",
      "Training status: Training\n",
      "Training status: Training\n",
      "Training status: Training\n",
      "Training status: Training\n",
      "Training status: Training\n",
      "Training status: Training\n",
      "Training status: Training\n",
      "Training status: Training\n",
      "Training status: Training\n",
      "Training status: Training\n",
      "Training status: Training\n",
      "Training status: Completed\n",
      "Done!\n"
     ]
    }
   ],
   "source": [
    "import time\n",
    "\n",
    "print (\"Training... (showing status each 10 seconds)\")\n",
    "iteration = dest_trainer.train_project(dest_Project.id)\n",
    "while (iteration.status != \"Completed\"):\n",
    "    iteration = dest_trainer.get_iteration(dest_Project.id, iteration.id)\n",
    "    print (\"Training status: \" + iteration.status)\n",
    "    time.sleep(10)\n",
    "\n",
    "# The iteration is now trained. Make it the default project endpoint\n",
    "dest_trainer.update_iteration(dest_Project.id, iteration.id, is_default=True)\n",
    "print (\"Done!\")"
   ]
  },
  {
   "cell_type": "markdown",
   "metadata": {},
   "source": [
    "## Get performance metrics"
   ]
  },
  {
   "cell_type": "code",
   "execution_count": 16,
   "metadata": {},
   "outputs": [
    {
     "name": "stdout",
     "output_type": "stream",
     "text": [
      "Iteration: Iteration 1\n",
      "Precision: 69.78417%\n",
      "Recall: 44.2922384%\n"
     ]
    }
   ],
   "source": [
    "performance = dest_trainer.get_iteration_performance(dest_Project.id, iteration.id, threshold=0.15, overlap_threshold=0.30)\n",
    "print(\"Iteration: \" + iteration.name)\n",
    "print(\"Precision: \" + str(performance.precision * 100)+ \"%\")\n",
    "print(\"Recall: \" + str(performance.recall * 100) + \"%\")"
   ]
  },
  {
   "cell_type": "code",
   "execution_count": 17,
   "metadata": {},
   "outputs": [],
   "source": [
    "per_tag_performance = performance.per_tag_performance"
   ]
  },
  {
   "cell_type": "code",
   "execution_count": 18,
   "metadata": {},
   "outputs": [
    {
     "name": "stdout",
     "output_type": "stream",
     "text": [
      "Tag: transformer\t\tPrecision: 0.909090936\tRecall: 0.8695652\n",
      "Tag: crossarm\t\tPrecision: 0.6666667\tRecall: 0.4117647\n",
      "Tag: insulator\t\tPrecision: 0.61403507\tRecall: 0.333333343\n",
      "Tag: switch\t\tPrecision: 0.5882353\tRecall: 0.4\n",
      "Tag: pole\t\tPrecision: 0.8181818\tRecall: 0.5625\n"
     ]
    }
   ],
   "source": [
    "for tag in per_tag_performance:\n",
    "    print (\"Tag: \" + tag.name + \"\\t\\t\" + \"Precision: \" + str(tag.precision) + \"\\t\" + \"Recall: \" + str(tag.recall))"
   ]
  },
  {
   "cell_type": "markdown",
   "metadata": {},
   "source": [
    "## Get and use the default prediction endpoint"
   ]
  },
  {
   "cell_type": "code",
   "execution_count": 22,
   "metadata": {},
   "outputs": [],
   "source": [
    "#You can make a web search online for \"powerline pole\" and get an URL:\n",
    "url = \"https://upload.wikimedia.org/wikipedia/commons/thumb/3/33/240v_transformer_-_geograph.org.uk_-_1062014.jpg/170px-240v_transformer_-_geograph.org.uk_-_1062014.jpg\""
   ]
  },
  {
   "cell_type": "markdown",
   "metadata": {},
   "source": [
    "<div style=\"width:100%; margin-left:auto; margin-right:auto; margin-bottom:5px; margin-top:17px;\">\n",
    "<img src=\"https://upload.wikimedia.org/wikipedia/commons/thumb/3/33/240v_transformer_-_geograph.org.uk_-_1062014.jpg/170px-240v_transformer_-_geograph.org.uk_-_1062014.jpg\" alt=\"IMAGE\" /><br>\n",
    "</div>"
   ]
  },
  {
   "cell_type": "code",
   "execution_count": 23,
   "metadata": {},
   "outputs": [],
   "source": [
    "from azure.cognitiveservices.vision.customvision.prediction import prediction_endpoint\n",
    "from azure.cognitiveservices.vision.customvision.prediction.prediction_endpoint import models\n",
    "\n",
    "# Now there is a trained endpoint that can be used to make a prediction\n",
    "dest_predictor = prediction_endpoint.PredictionEndpoint(dest_prediction_key)\n",
    "\n",
    "# Open the sample image and get back the prediction results.\n",
    "results = dest_predictor.predict_image_url(dest_Project.id, iteration_id=iteration.id, url=url)"
   ]
  },
  {
   "cell_type": "code",
   "execution_count": 25,
   "metadata": {},
   "outputs": [
    {
     "name": "stdout",
     "output_type": "stream",
     "text": [
      "\tinsulator: 55.09%    Box relative points: 0.9736056 0.116215907 0.0263844132 0.053531\n",
      "\tinsulator: 68.11%    Box relative points: 0.08418168 0.1291371 0.0814568549 0.0867869556\n",
      "\ttransformer: 72.06%    Box relative points: 0.415163636 0.6361095 0.2531705 0.291148365\n"
     ]
    }
   ],
   "source": [
    "# Display the results.\n",
    "for prediction in results.predictions:\n",
    "    if(prediction.probability > 0.2): # only show the prediction with more than 20% threshold probability\n",
    "        print (\"\\t\" + prediction.tag_name + \": {0:.2f}%\".format(prediction.probability * 100), \"   Box relative points:\",prediction.bounding_box.left, prediction.bounding_box.top, prediction.bounding_box.width, prediction.bounding_box.height)"
   ]
  }
 ],
 "metadata": {
  "kernelspec": {
   "display_name": "Python 3",
   "language": "python",
   "name": "python3"
  },
  "language_info": {
   "codemirror_mode": {
    "name": "ipython",
    "version": 3
   },
   "file_extension": ".py",
   "mimetype": "text/x-python",
   "name": "python",
   "nbconvert_exporter": "python",
   "pygments_lexer": "ipython3",
   "version": "3.5.4"
  }
 },
 "nbformat": 4,
 "nbformat_minor": 2
}
